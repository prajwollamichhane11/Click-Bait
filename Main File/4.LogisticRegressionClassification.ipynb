{
 "cells": [
  {
   "cell_type": "code",
   "execution_count": 1,
   "metadata": {},
   "outputs": [],
   "source": [
    "import numpy as np\n",
    "import pandas as pd\n",
    "import matplotlib.pyplot as plt\n",
    "\n",
    "import pickle\n",
    "\n",
    "from sklearn.model_selection import train_test_split, cross_val_score\n",
    "from sklearn.feature_extraction.text import CountVectorizer, TfidfVectorizer\n",
    "from sklearn.linear_model import LogisticRegression\n",
    "from sklearn.metrics import classification_report, confusion_matrix, accuracy_score, precision_score, recall_score, f1_score, roc_auc_score, confusion_matrix"
   ]
  },
  {
   "cell_type": "code",
   "execution_count": 2,
   "metadata": {},
   "outputs": [],
   "source": [
    "df = pd.read_csv(\"featurextacted.csv\")"
   ]
  },
  {
   "cell_type": "code",
   "execution_count": 3,
   "metadata": {},
   "outputs": [
    {
     "data": {
      "text/html": [
       "<div>\n",
       "<style scoped>\n",
       "    .dataframe tbody tr th:only-of-type {\n",
       "        vertical-align: middle;\n",
       "    }\n",
       "\n",
       "    .dataframe tbody tr th {\n",
       "        vertical-align: top;\n",
       "    }\n",
       "\n",
       "    .dataframe thead th {\n",
       "        text-align: right;\n",
       "    }\n",
       "</style>\n",
       "<table border=\"1\" class=\"dataframe\">\n",
       "  <thead>\n",
       "    <tr style=\"text-align: right;\">\n",
       "      <th></th>\n",
       "      <th>Unnamed: 0</th>\n",
       "      <th>Clickbaits</th>\n",
       "      <th>bait</th>\n",
       "      <th>Length</th>\n",
       "      <th>AvgWordLength</th>\n",
       "      <th>StoptoContent</th>\n",
       "      <th>Cardinality</th>\n",
       "      <th>WordCount</th>\n",
       "      <th>Verb</th>\n",
       "      <th>Auxiliary</th>\n",
       "      <th>CoorConj</th>\n",
       "      <th>polarity</th>\n",
       "      <th>subjectivity</th>\n",
       "    </tr>\n",
       "  </thead>\n",
       "  <tbody>\n",
       "    <tr>\n",
       "      <th>0</th>\n",
       "      <td>0</td>\n",
       "      <td>25 Adorable Animals To Brighten Your Day</td>\n",
       "      <td>1</td>\n",
       "      <td>40.0</td>\n",
       "      <td>4.857143</td>\n",
       "      <td>0.285714</td>\n",
       "      <td>1.0</td>\n",
       "      <td>7.0</td>\n",
       "      <td>1.0</td>\n",
       "      <td>0.0</td>\n",
       "      <td>0.0</td>\n",
       "      <td>0.5</td>\n",
       "      <td>1.0</td>\n",
       "    </tr>\n",
       "    <tr>\n",
       "      <th>1</th>\n",
       "      <td>1</td>\n",
       "      <td>Myanmar Junta threatened with sanctions by UN ...</td>\n",
       "      <td>0</td>\n",
       "      <td>50.0</td>\n",
       "      <td>5.375000</td>\n",
       "      <td>0.250000</td>\n",
       "      <td>1.0</td>\n",
       "      <td>8.0</td>\n",
       "      <td>2.0</td>\n",
       "      <td>0.0</td>\n",
       "      <td>0.0</td>\n",
       "      <td>0.0</td>\n",
       "      <td>0.0</td>\n",
       "    </tr>\n",
       "    <tr>\n",
       "      <th>2</th>\n",
       "      <td>2</td>\n",
       "      <td>Fannie Mae Says It Needs Another $15 Billion</td>\n",
       "      <td>0</td>\n",
       "      <td>44.0</td>\n",
       "      <td>4.625000</td>\n",
       "      <td>0.250000</td>\n",
       "      <td>3.0</td>\n",
       "      <td>8.0</td>\n",
       "      <td>4.0</td>\n",
       "      <td>0.0</td>\n",
       "      <td>0.0</td>\n",
       "      <td>0.0</td>\n",
       "      <td>0.0</td>\n",
       "    </tr>\n",
       "    <tr>\n",
       "      <th>3</th>\n",
       "      <td>3</td>\n",
       "      <td>World's most-spammed man</td>\n",
       "      <td>0</td>\n",
       "      <td>24.0</td>\n",
       "      <td>7.333333</td>\n",
       "      <td>0.000000</td>\n",
       "      <td>3.0</td>\n",
       "      <td>3.0</td>\n",
       "      <td>5.0</td>\n",
       "      <td>0.0</td>\n",
       "      <td>0.0</td>\n",
       "      <td>0.0</td>\n",
       "      <td>0.0</td>\n",
       "    </tr>\n",
       "    <tr>\n",
       "      <th>4</th>\n",
       "      <td>4</td>\n",
       "      <td>Yankees power surge blacks out Sox relief in 8...</td>\n",
       "      <td>0</td>\n",
       "      <td>52.0</td>\n",
       "      <td>4.300000</td>\n",
       "      <td>0.200000</td>\n",
       "      <td>5.0</td>\n",
       "      <td>10.0</td>\n",
       "      <td>6.0</td>\n",
       "      <td>0.0</td>\n",
       "      <td>0.0</td>\n",
       "      <td>0.8</td>\n",
       "      <td>0.4</td>\n",
       "    </tr>\n",
       "  </tbody>\n",
       "</table>\n",
       "</div>"
      ],
      "text/plain": [
       "   Unnamed: 0                                         Clickbaits  bait  \\\n",
       "0           0           25 Adorable Animals To Brighten Your Day     1   \n",
       "1           1  Myanmar Junta threatened with sanctions by UN ...     0   \n",
       "2           2       Fannie Mae Says It Needs Another $15 Billion     0   \n",
       "3           3                           World's most-spammed man     0   \n",
       "4           4  Yankees power surge blacks out Sox relief in 8...     0   \n",
       "\n",
       "   Length  AvgWordLength  StoptoContent  Cardinality  WordCount  Verb  \\\n",
       "0    40.0       4.857143       0.285714          1.0        7.0   1.0   \n",
       "1    50.0       5.375000       0.250000          1.0        8.0   2.0   \n",
       "2    44.0       4.625000       0.250000          3.0        8.0   4.0   \n",
       "3    24.0       7.333333       0.000000          3.0        3.0   5.0   \n",
       "4    52.0       4.300000       0.200000          5.0       10.0   6.0   \n",
       "\n",
       "   Auxiliary  CoorConj  polarity  subjectivity  \n",
       "0        0.0       0.0       0.5           1.0  \n",
       "1        0.0       0.0       0.0           0.0  \n",
       "2        0.0       0.0       0.0           0.0  \n",
       "3        0.0       0.0       0.0           0.0  \n",
       "4        0.0       0.0       0.8           0.4  "
      ]
     },
     "execution_count": 3,
     "metadata": {},
     "output_type": "execute_result"
    }
   ],
   "source": [
    "df.head()"
   ]
  },
  {
   "cell_type": "code",
   "execution_count": 4,
   "metadata": {},
   "outputs": [],
   "source": [
    "df.drop([\"Unnamed: 0\"],axis=1,inplace=True)"
   ]
  },
  {
   "cell_type": "code",
   "execution_count": 5,
   "metadata": {},
   "outputs": [
    {
     "data": {
      "text/html": [
       "<div>\n",
       "<style scoped>\n",
       "    .dataframe tbody tr th:only-of-type {\n",
       "        vertical-align: middle;\n",
       "    }\n",
       "\n",
       "    .dataframe tbody tr th {\n",
       "        vertical-align: top;\n",
       "    }\n",
       "\n",
       "    .dataframe thead th {\n",
       "        text-align: right;\n",
       "    }\n",
       "</style>\n",
       "<table border=\"1\" class=\"dataframe\">\n",
       "  <thead>\n",
       "    <tr style=\"text-align: right;\">\n",
       "      <th></th>\n",
       "      <th>Clickbaits</th>\n",
       "      <th>bait</th>\n",
       "      <th>Length</th>\n",
       "      <th>AvgWordLength</th>\n",
       "      <th>StoptoContent</th>\n",
       "      <th>Cardinality</th>\n",
       "      <th>WordCount</th>\n",
       "      <th>Verb</th>\n",
       "      <th>Auxiliary</th>\n",
       "      <th>CoorConj</th>\n",
       "      <th>polarity</th>\n",
       "      <th>subjectivity</th>\n",
       "    </tr>\n",
       "  </thead>\n",
       "  <tbody>\n",
       "    <tr>\n",
       "      <th>0</th>\n",
       "      <td>25 Adorable Animals To Brighten Your Day</td>\n",
       "      <td>1</td>\n",
       "      <td>40.0</td>\n",
       "      <td>4.857143</td>\n",
       "      <td>0.285714</td>\n",
       "      <td>1.0</td>\n",
       "      <td>7.0</td>\n",
       "      <td>1.0</td>\n",
       "      <td>0.0</td>\n",
       "      <td>0.0</td>\n",
       "      <td>0.5</td>\n",
       "      <td>1.0</td>\n",
       "    </tr>\n",
       "    <tr>\n",
       "      <th>1</th>\n",
       "      <td>Myanmar Junta threatened with sanctions by UN ...</td>\n",
       "      <td>0</td>\n",
       "      <td>50.0</td>\n",
       "      <td>5.375000</td>\n",
       "      <td>0.250000</td>\n",
       "      <td>1.0</td>\n",
       "      <td>8.0</td>\n",
       "      <td>2.0</td>\n",
       "      <td>0.0</td>\n",
       "      <td>0.0</td>\n",
       "      <td>0.0</td>\n",
       "      <td>0.0</td>\n",
       "    </tr>\n",
       "    <tr>\n",
       "      <th>2</th>\n",
       "      <td>Fannie Mae Says It Needs Another $15 Billion</td>\n",
       "      <td>0</td>\n",
       "      <td>44.0</td>\n",
       "      <td>4.625000</td>\n",
       "      <td>0.250000</td>\n",
       "      <td>3.0</td>\n",
       "      <td>8.0</td>\n",
       "      <td>4.0</td>\n",
       "      <td>0.0</td>\n",
       "      <td>0.0</td>\n",
       "      <td>0.0</td>\n",
       "      <td>0.0</td>\n",
       "    </tr>\n",
       "    <tr>\n",
       "      <th>3</th>\n",
       "      <td>World's most-spammed man</td>\n",
       "      <td>0</td>\n",
       "      <td>24.0</td>\n",
       "      <td>7.333333</td>\n",
       "      <td>0.000000</td>\n",
       "      <td>3.0</td>\n",
       "      <td>3.0</td>\n",
       "      <td>5.0</td>\n",
       "      <td>0.0</td>\n",
       "      <td>0.0</td>\n",
       "      <td>0.0</td>\n",
       "      <td>0.0</td>\n",
       "    </tr>\n",
       "    <tr>\n",
       "      <th>4</th>\n",
       "      <td>Yankees power surge blacks out Sox relief in 8...</td>\n",
       "      <td>0</td>\n",
       "      <td>52.0</td>\n",
       "      <td>4.300000</td>\n",
       "      <td>0.200000</td>\n",
       "      <td>5.0</td>\n",
       "      <td>10.0</td>\n",
       "      <td>6.0</td>\n",
       "      <td>0.0</td>\n",
       "      <td>0.0</td>\n",
       "      <td>0.8</td>\n",
       "      <td>0.4</td>\n",
       "    </tr>\n",
       "  </tbody>\n",
       "</table>\n",
       "</div>"
      ],
      "text/plain": [
       "                                          Clickbaits  bait  Length  \\\n",
       "0           25 Adorable Animals To Brighten Your Day     1    40.0   \n",
       "1  Myanmar Junta threatened with sanctions by UN ...     0    50.0   \n",
       "2       Fannie Mae Says It Needs Another $15 Billion     0    44.0   \n",
       "3                           World's most-spammed man     0    24.0   \n",
       "4  Yankees power surge blacks out Sox relief in 8...     0    52.0   \n",
       "\n",
       "   AvgWordLength  StoptoContent  Cardinality  WordCount  Verb  Auxiliary  \\\n",
       "0       4.857143       0.285714          1.0        7.0   1.0        0.0   \n",
       "1       5.375000       0.250000          1.0        8.0   2.0        0.0   \n",
       "2       4.625000       0.250000          3.0        8.0   4.0        0.0   \n",
       "3       7.333333       0.000000          3.0        3.0   5.0        0.0   \n",
       "4       4.300000       0.200000          5.0       10.0   6.0        0.0   \n",
       "\n",
       "   CoorConj  polarity  subjectivity  \n",
       "0       0.0       0.5           1.0  \n",
       "1       0.0       0.0           0.0  \n",
       "2       0.0       0.0           0.0  \n",
       "3       0.0       0.0           0.0  \n",
       "4       0.0       0.8           0.4  "
      ]
     },
     "execution_count": 5,
     "metadata": {},
     "output_type": "execute_result"
    }
   ],
   "source": [
    "df.head()"
   ]
  },
  {
   "cell_type": "code",
   "execution_count": 6,
   "metadata": {},
   "outputs": [],
   "source": [
    "#Splitting the Data into Train and Test with 0.25 as test sets\n",
    "X_train,X_test,y_train,y_test=train_test_split(df.Clickbaits,df.bait,test_size=0.20,random_state=0)"
   ]
  },
  {
   "cell_type": "code",
   "execution_count": 7,
   "metadata": {},
   "outputs": [],
   "source": [
    "#Using the Tfid Vectorizer because the size of the dataset is Large\n",
    "vectorizer = TfidfVectorizer()\n",
    "tfidf_train_x = vectorizer.fit_transform(X_train)"
   ]
  },
  {
   "cell_type": "code",
   "execution_count": 8,
   "metadata": {},
   "outputs": [
    {
     "name": "stderr",
     "output_type": "stream",
     "text": [
      "/home/prajwol/anaconda3/lib/python3.6/site-packages/sklearn/linear_model/logistic.py:432: FutureWarning: Default solver will be changed to 'lbfgs' in 0.22. Specify a solver to silence this warning.\n",
      "  FutureWarning)\n"
     ]
    },
    {
     "data": {
      "text/plain": [
       "LogisticRegression(C=1.0, class_weight=None, dual=False, fit_intercept=True,\n",
       "                   intercept_scaling=1, l1_ratio=None, max_iter=100,\n",
       "                   multi_class='warn', n_jobs=None, penalty='l2',\n",
       "                   random_state=None, solver='warn', tol=0.0001, verbose=0,\n",
       "                   warm_start=False)"
      ]
     },
     "execution_count": 8,
     "metadata": {},
     "output_type": "execute_result"
    }
   ],
   "source": [
    "#Now using the Logistic Regression Algorithm\n",
    "classifier = LogisticRegression(penalty=\"l2\")\n",
    "classifier.fit(tfidf_train_x, y_train)"
   ]
  },
  {
   "cell_type": "code",
   "execution_count": 9,
   "metadata": {},
   "outputs": [
    {
     "name": "stdout",
     "output_type": "stream",
     "text": [
      "(6400, 20715)\n"
     ]
    },
    {
     "data": {
      "text/plain": [
       "<6400x20715 sparse matrix of type '<class 'numpy.float64'>'\n",
       "\twith 54315 stored elements in Compressed Sparse Row format>"
      ]
     },
     "execution_count": 9,
     "metadata": {},
     "output_type": "execute_result"
    }
   ],
   "source": [
    "#After transform the test data will be stored as a float in case of TFID\n",
    "tfidf_test_x = vectorizer.transform(X_test)\n",
    "print(tfidf_test_x.shape)\n",
    "tfidf_test_x"
   ]
  },
  {
   "cell_type": "code",
   "execution_count": 10,
   "metadata": {},
   "outputs": [],
   "source": [
    "predicted = classifier.predict(tfidf_test_x)"
   ]
  },
  {
   "cell_type": "code",
   "execution_count": 11,
   "metadata": {},
   "outputs": [
    {
     "name": "stdout",
     "output_type": "stream",
     "text": [
      "94.46863749497221\n"
     ]
    },
    {
     "name": "stderr",
     "output_type": "stream",
     "text": [
      "/home/prajwol/anaconda3/lib/python3.6/site-packages/sklearn/linear_model/logistic.py:432: FutureWarning: Default solver will be changed to 'lbfgs' in 0.22. Specify a solver to silence this warning.\n",
      "  FutureWarning)\n"
     ]
    }
   ],
   "source": [
    "#Finding the Accuracy Score for the Algorithm\n",
    "accuracy = cross_val_score(classifier, tfidf_test_x, y_test, cv=5)\n",
    "acc = accuracy.mean()\n",
    "print(acc * 100)"
   ]
  },
  {
   "cell_type": "code",
   "execution_count": 12,
   "metadata": {},
   "outputs": [
    {
     "name": "stdout",
     "output_type": "stream",
     "text": [
      "Accuracy: 0.962656\n",
      "Precision: 0.974416\n",
      "Recall: 0.951280\n",
      "F1 score: 0.962709\n",
      "ROC AUC: 0.962811\n",
      "[[3076   81]\n",
      " [ 158 3085]]\n"
     ]
    }
   ],
   "source": [
    "# accuracy: (tp + tn) / (p + n)\n",
    "accuracy = accuracy_score(y_test,predicted)\n",
    "print('Accuracy: %f' % accuracy)\n",
    "# precision tp / (tp + fp)\n",
    "precision = precision_score(y_test,predicted)\n",
    "print('Precision: %f' % precision)\n",
    "# recall: tp / (tp + fn)\n",
    "recall = recall_score(y_test,predicted)\n",
    "print('Recall: %f' % recall)\n",
    "# f1: 2 tp / (2 tp + fp + fn)\n",
    "f1 = f1_score(y_test,predicted)\n",
    "print('F1 score: %f' % f1)\n",
    "\n",
    "# ROC AUC\n",
    "auc = roc_auc_score(y_test,predicted)\n",
    "print('ROC AUC: %f' % auc)\n",
    "# confusion matrix\n",
    "matrix1 = confusion_matrix(y_test,predicted)\n",
    "print(matrix1)"
   ]
  },
  {
   "cell_type": "code",
   "execution_count": 13,
   "metadata": {},
   "outputs": [
    {
     "name": "stdout",
     "output_type": "stream",
     "text": [
      "Enter the sentence or phrase you want to validate: \n",
      "\n",
      "\n",
      "i am a good person\n",
      "---------------------------------------------------------\n",
      "NOT a CLICKBAIT\n",
      "---------------------------------------------------------\n"
     ]
    }
   ],
   "source": [
    "#Enter anything to check its validity\n",
    "print(\"Enter the sentence or phrase you want to validate: \\n\\n\")\n",
    "inpPhrase = [input()]\n",
    "output = classifier.predict(vectorizer.transform(inpPhrase))\n",
    "print(\"---------------------------------------------------------\")\n",
    "if output == 1:\n",
    "    print(\"CLICKBAIT\")\n",
    "else:\n",
    "    print(\"NOT a CLICKBAIT\")\n",
    "print(\"---------------------------------------------------------\")"
   ]
  },
  {
   "cell_type": "code",
   "execution_count": 14,
   "metadata": {},
   "outputs": [
    {
     "name": "stdout",
     "output_type": "stream",
     "text": [
      "\n"
     ]
    },
    {
     "data": {
      "text/plain": [
       "0"
      ]
     },
     "execution_count": 14,
     "metadata": {},
     "output_type": "execute_result"
    }
   ],
   "source": [
    "# save the model to disk\n",
    "filename = 'finalVECTORmodel.sav'\n",
    "pickle.dump(classifier, open(filename, 'wb'))\n",
    "\n",
    "# some time later...\n",
    "inpPhrase = [input()]\n",
    "# load the model from disk\n",
    "loaded_model = pickle.load(open(filename, 'rb'))\n",
    "output = loaded_model.predict(vectorizer.transform(inpPhrase))\n",
    "# predicted = loaded_model.predict(tfidf_test_x)\n",
    "# classify = loaded_model.predict(\"get a chance to win $10,000 by clicking this link\")\n",
    "# accuracy = accuracy_score(y_test,result)\n",
    "# accuracy\n",
    "output[0]"
   ]
  },
  {
   "cell_type": "code",
   "execution_count": 15,
   "metadata": {},
   "outputs": [
    {
     "data": {
      "text/plain": [
       "1"
      ]
     },
     "execution_count": 15,
     "metadata": {},
     "output_type": "execute_result"
    }
   ],
   "source": [
    "predicted[0]"
   ]
  },
  {
   "cell_type": "code",
   "execution_count": 16,
   "metadata": {},
   "outputs": [
    {
     "data": {
      "image/png": "[encoded data removed]",
      "text/plain": [
       "<Figure size 432x288 with 2 Axes>"
      ]
     },
     "metadata": {
      "needs_background": "light"
     },
     "output_type": "display_data"
    }
   ],
   "source": [
    "import seaborn as sns\n",
    "\n",
    "ax= plt.subplot()\n",
    "fig = sns.heatmap(matrix1, annot=True, ax = ax); #annot=True to annotate cells\n",
    "\n",
    "# labels, title and ticks\n",
    "ax.set_xlabel('Predicted labels');ax.set_ylabel('True labels'); \n",
    "ax.set_title('Confusion Matrix from Vectorization'); \n",
    "ax.xaxis.set_ticklabels(['Non Clickbaits', 'Clickbaits'])\n",
    "ax.yaxis.set_ticklabels(['Non Clickbaits', 'Clickbaits'])\n",
    "fig = fig.get_figure()\n",
    "fig.savefig(\"ConfMatrix1.png\")"
   ]
  },
  {
   "cell_type": "code",
   "execution_count": 17,
   "metadata": {},
   "outputs": [
    {
     "data": {
      "text/html": [
       "<div>\n",
       "<style scoped>\n",
       "    .dataframe tbody tr th:only-of-type {\n",
       "        vertical-align: middle;\n",
       "    }\n",
       "\n",
       "    .dataframe tbody tr th {\n",
       "        vertical-align: top;\n",
       "    }\n",
       "\n",
       "    .dataframe thead th {\n",
       "        text-align: right;\n",
       "    }\n",
       "</style>\n",
       "<table border=\"1\" class=\"dataframe\">\n",
       "  <thead>\n",
       "    <tr style=\"text-align: right;\">\n",
       "      <th></th>\n",
       "      <th>Clickbaits</th>\n",
       "      <th>bait</th>\n",
       "      <th>Length</th>\n",
       "      <th>AvgWordLength</th>\n",
       "      <th>StoptoContent</th>\n",
       "      <th>Cardinality</th>\n",
       "      <th>WordCount</th>\n",
       "      <th>Verb</th>\n",
       "      <th>Auxiliary</th>\n",
       "      <th>CoorConj</th>\n",
       "      <th>polarity</th>\n",
       "      <th>subjectivity</th>\n",
       "    </tr>\n",
       "  </thead>\n",
       "  <tbody>\n",
       "    <tr>\n",
       "      <th>0</th>\n",
       "      <td>25 Adorable Animals To Brighten Your Day</td>\n",
       "      <td>1</td>\n",
       "      <td>40.0</td>\n",
       "      <td>4.857143</td>\n",
       "      <td>0.285714</td>\n",
       "      <td>1.0</td>\n",
       "      <td>7.0</td>\n",
       "      <td>1.0</td>\n",
       "      <td>0.0</td>\n",
       "      <td>0.0</td>\n",
       "      <td>0.5</td>\n",
       "      <td>1.0</td>\n",
       "    </tr>\n",
       "    <tr>\n",
       "      <th>1</th>\n",
       "      <td>Myanmar Junta threatened with sanctions by UN ...</td>\n",
       "      <td>0</td>\n",
       "      <td>50.0</td>\n",
       "      <td>5.375000</td>\n",
       "      <td>0.250000</td>\n",
       "      <td>1.0</td>\n",
       "      <td>8.0</td>\n",
       "      <td>2.0</td>\n",
       "      <td>0.0</td>\n",
       "      <td>0.0</td>\n",
       "      <td>0.0</td>\n",
       "      <td>0.0</td>\n",
       "    </tr>\n",
       "    <tr>\n",
       "      <th>2</th>\n",
       "      <td>Fannie Mae Says It Needs Another $15 Billion</td>\n",
       "      <td>0</td>\n",
       "      <td>44.0</td>\n",
       "      <td>4.625000</td>\n",
       "      <td>0.250000</td>\n",
       "      <td>3.0</td>\n",
       "      <td>8.0</td>\n",
       "      <td>4.0</td>\n",
       "      <td>0.0</td>\n",
       "      <td>0.0</td>\n",
       "      <td>0.0</td>\n",
       "      <td>0.0</td>\n",
       "    </tr>\n",
       "    <tr>\n",
       "      <th>3</th>\n",
       "      <td>World's most-spammed man</td>\n",
       "      <td>0</td>\n",
       "      <td>24.0</td>\n",
       "      <td>7.333333</td>\n",
       "      <td>0.000000</td>\n",
       "      <td>3.0</td>\n",
       "      <td>3.0</td>\n",
       "      <td>5.0</td>\n",
       "      <td>0.0</td>\n",
       "      <td>0.0</td>\n",
       "      <td>0.0</td>\n",
       "      <td>0.0</td>\n",
       "    </tr>\n",
       "    <tr>\n",
       "      <th>4</th>\n",
       "      <td>Yankees power surge blacks out Sox relief in 8...</td>\n",
       "      <td>0</td>\n",
       "      <td>52.0</td>\n",
       "      <td>4.300000</td>\n",
       "      <td>0.200000</td>\n",
       "      <td>5.0</td>\n",
       "      <td>10.0</td>\n",
       "      <td>6.0</td>\n",
       "      <td>0.0</td>\n",
       "      <td>0.0</td>\n",
       "      <td>0.8</td>\n",
       "      <td>0.4</td>\n",
       "    </tr>\n",
       "    <tr>\n",
       "      <th>5</th>\n",
       "      <td>US congressmen sue Obama for military action i...</td>\n",
       "      <td>0</td>\n",
       "      <td>53.0</td>\n",
       "      <td>5.000000</td>\n",
       "      <td>0.333333</td>\n",
       "      <td>5.0</td>\n",
       "      <td>9.0</td>\n",
       "      <td>7.0</td>\n",
       "      <td>0.0</td>\n",
       "      <td>0.0</td>\n",
       "      <td>0.0</td>\n",
       "      <td>0.1</td>\n",
       "    </tr>\n",
       "    <tr>\n",
       "      <th>6</th>\n",
       "      <td>In Sri Lanka, Kouchner and Miliband Urge Truce</td>\n",
       "      <td>0</td>\n",
       "      <td>46.0</td>\n",
       "      <td>4.875000</td>\n",
       "      <td>0.250000</td>\n",
       "      <td>5.0</td>\n",
       "      <td>8.0</td>\n",
       "      <td>7.0</td>\n",
       "      <td>0.0</td>\n",
       "      <td>1.0</td>\n",
       "      <td>0.0</td>\n",
       "      <td>0.0</td>\n",
       "    </tr>\n",
       "    <tr>\n",
       "      <th>7</th>\n",
       "      <td>NCAA Football: Three Gopher players arrested f...</td>\n",
       "      <td>0</td>\n",
       "      <td>71.0</td>\n",
       "      <td>7.000000</td>\n",
       "      <td>0.111111</td>\n",
       "      <td>6.0</td>\n",
       "      <td>9.0</td>\n",
       "      <td>9.0</td>\n",
       "      <td>0.0</td>\n",
       "      <td>1.0</td>\n",
       "      <td>0.0</td>\n",
       "      <td>0.1</td>\n",
       "    </tr>\n",
       "    <tr>\n",
       "      <th>8</th>\n",
       "      <td>A Girl Snapchatted Herself As Disney Princesse...</td>\n",
       "      <td>1</td>\n",
       "      <td>65.0</td>\n",
       "      <td>5.000000</td>\n",
       "      <td>0.545455</td>\n",
       "      <td>6.0</td>\n",
       "      <td>11.0</td>\n",
       "      <td>10.0</td>\n",
       "      <td>1.0</td>\n",
       "      <td>2.0</td>\n",
       "      <td>1.0</td>\n",
       "      <td>1.0</td>\n",
       "    </tr>\n",
       "    <tr>\n",
       "      <th>9</th>\n",
       "      <td>Plan to Shift Military Spending Faces Skepticism</td>\n",
       "      <td>0</td>\n",
       "      <td>48.0</td>\n",
       "      <td>6.000000</td>\n",
       "      <td>0.142857</td>\n",
       "      <td>6.0</td>\n",
       "      <td>7.0</td>\n",
       "      <td>13.0</td>\n",
       "      <td>1.0</td>\n",
       "      <td>2.0</td>\n",
       "      <td>-0.1</td>\n",
       "      <td>0.1</td>\n",
       "    </tr>\n",
       "  </tbody>\n",
       "</table>\n",
       "</div>"
      ],
      "text/plain": [
       "                                          Clickbaits  bait  Length  \\\n",
       "0           25 Adorable Animals To Brighten Your Day     1    40.0   \n",
       "1  Myanmar Junta threatened with sanctions by UN ...     0    50.0   \n",
       "2       Fannie Mae Says It Needs Another $15 Billion     0    44.0   \n",
       "3                           World's most-spammed man     0    24.0   \n",
       "4  Yankees power surge blacks out Sox relief in 8...     0    52.0   \n",
       "5  US congressmen sue Obama for military action i...     0    53.0   \n",
       "6     In Sri Lanka, Kouchner and Miliband Urge Truce     0    46.0   \n",
       "7  NCAA Football: Three Gopher players arrested f...     0    71.0   \n",
       "8  A Girl Snapchatted Herself As Disney Princesse...     1    65.0   \n",
       "9   Plan to Shift Military Spending Faces Skepticism     0    48.0   \n",
       "\n",
       "   AvgWordLength  StoptoContent  Cardinality  WordCount  Verb  Auxiliary  \\\n",
       "0       4.857143       0.285714          1.0        7.0   1.0        0.0   \n",
       "1       5.375000       0.250000          1.0        8.0   2.0        0.0   \n",
       "2       4.625000       0.250000          3.0        8.0   4.0        0.0   \n",
       "3       7.333333       0.000000          3.0        3.0   5.0        0.0   \n",
       "4       4.300000       0.200000          5.0       10.0   6.0        0.0   \n",
       "5       5.000000       0.333333          5.0        9.0   7.0        0.0   \n",
       "6       4.875000       0.250000          5.0        8.0   7.0        0.0   \n",
       "7       7.000000       0.111111          6.0        9.0   9.0        0.0   \n",
       "8       5.000000       0.545455          6.0       11.0  10.0        1.0   \n",
       "9       6.000000       0.142857          6.0        7.0  13.0        1.0   \n",
       "\n",
       "   CoorConj  polarity  subjectivity  \n",
       "0       0.0       0.5           1.0  \n",
       "1       0.0       0.0           0.0  \n",
       "2       0.0       0.0           0.0  \n",
       "3       0.0       0.0           0.0  \n",
       "4       0.0       0.8           0.4  \n",
       "5       0.0       0.0           0.1  \n",
       "6       1.0       0.0           0.0  \n",
       "7       1.0       0.0           0.1  \n",
       "8       2.0       1.0           1.0  \n",
       "9       2.0      -0.1           0.1  "
      ]
     },
     "execution_count": 17,
     "metadata": {},
     "output_type": "execute_result"
    }
   ],
   "source": [
    "df.head(10)"
   ]
  },
  {
   "cell_type": "markdown",
   "metadata": {},
   "source": [
    "## Training Data"
   ]
  },
  {
   "cell_type": "code",
   "execution_count": 18,
   "metadata": {},
   "outputs": [],
   "source": [
    "X = df.drop([\"Clickbaits\",\"bait\"],axis=1)\n",
    "y = df.bait"
   ]
  },
  {
   "cell_type": "code",
   "execution_count": 19,
   "metadata": {},
   "outputs": [],
   "source": [
    "#Splitting the Data into Train and Test with 0.25 as test sets\n",
    "X_train,X_test,y_train,y_test=train_test_split(X,y,test_size=0.20,random_state=0)"
   ]
  },
  {
   "cell_type": "code",
   "execution_count": 20,
   "metadata": {},
   "outputs": [],
   "source": [
    "logmodel = LogisticRegression(penalty=\"l2\")"
   ]
  },
  {
   "cell_type": "code",
   "execution_count": 21,
   "metadata": {},
   "outputs": [
    {
     "name": "stderr",
     "output_type": "stream",
     "text": [
      "/home/prajwol/anaconda3/lib/python3.6/site-packages/sklearn/linear_model/logistic.py:432: FutureWarning: Default solver will be changed to 'lbfgs' in 0.22. Specify a solver to silence this warning.\n",
      "  FutureWarning)\n"
     ]
    },
    {
     "data": {
      "text/plain": [
       "LogisticRegression(C=1.0, class_weight=None, dual=False, fit_intercept=True,\n",
       "                   intercept_scaling=1, l1_ratio=None, max_iter=100,\n",
       "                   multi_class='warn', n_jobs=None, penalty='l2',\n",
       "                   random_state=None, solver='warn', tol=0.0001, verbose=0,\n",
       "                   warm_start=False)"
      ]
     },
     "execution_count": 21,
     "metadata": {},
     "output_type": "execute_result"
    }
   ],
   "source": [
    "logmodel.fit(X_train,y_train)"
   ]
  },
  {
   "cell_type": "code",
   "execution_count": 22,
   "metadata": {},
   "outputs": [],
   "source": [
    "predicted = logmodel.predict(X_test)"
   ]
  },
  {
   "cell_type": "code",
   "execution_count": 23,
   "metadata": {},
   "outputs": [
    {
     "data": {
      "text/plain": [
       "'              precision    recall  f1-score   support\\n\\n           0       0.78      0.79      0.79      3157\\n           1       0.79      0.79      0.79      3243\\n\\n    accuracy                           0.79      6400\\n   macro avg       0.79      0.79      0.79      6400\\nweighted avg       0.79      0.79      0.79      6400\\n'"
      ]
     },
     "execution_count": 23,
     "metadata": {},
     "output_type": "execute_result"
    }
   ],
   "source": [
    "classification_report(y_test,predicted)"
   ]
  },
  {
   "cell_type": "code",
   "execution_count": 24,
   "metadata": {},
   "outputs": [
    {
     "name": "stdout",
     "output_type": "stream",
     "text": [
      "Accuracy: 0.788438\n",
      "Precision: 0.794512\n",
      "Recall: 0.785692\n",
      "F1 score: 0.790078\n",
      "ROC AUC: 0.788475\n",
      "[[2498  659]\n",
      " [ 695 2548]]\n"
     ]
    }
   ],
   "source": [
    "# accuracy: (tp + tn) / (p + n)\n",
    "accuracy = accuracy_score(y_test,predicted)\n",
    "print('Accuracy: %f' % accuracy)\n",
    "# precision tp / (tp + fp)\n",
    "precision = precision_score(y_test,predicted)\n",
    "print('Precision: %f' % precision)\n",
    "# recall: tp / (tp + fn)\n",
    "recall = recall_score(y_test,predicted)\n",
    "print('Recall: %f' % recall)\n",
    "# f1: 2 tp / (2 tp + fp + fn)\n",
    "f1 = f1_score(y_test,predicted)\n",
    "print('F1 score: %f' % f1)\n",
    "\n",
    "# ROC AUC\n",
    "auc = roc_auc_score(y_test,predicted)\n",
    "print('ROC AUC: %f' % auc)\n",
    "# confusion matrix\n",
    "matrix2 = confusion_matrix(y_test,predicted)\n",
    "print(matrix2)"
   ]
  },
  {
   "cell_type": "code",
   "execution_count": 25,
   "metadata": {},
   "outputs": [
    {
     "data": {
      "image/png": "[encoded data removed]",
      "text/plain": [
       "<Figure size 432x288 with 2 Axes>"
      ]
     },
     "metadata": {
      "needs_background": "light"
     },
     "output_type": "display_data"
    }
   ],
   "source": [
    "import seaborn as sns\n",
    "\n",
    "ax= plt.subplot()\n",
    "fig = sns.heatmap(matrix2, annot=True, ax = ax); #annot=True to annotate cells\n",
    "\n",
    "# labels, title and ticks\n",
    "ax.set_xlabel('Predicted labels');ax.set_ylabel('True labels'); \n",
    "ax.set_title('Confusion Matrix from features Extraction'); \n",
    "ax.xaxis.set_ticklabels(['Non Clickbaits', 'Clickbaits'])\n",
    "ax.yaxis.set_ticklabels(['Non Clickbaits', 'Clickbaits'])\n",
    "fig = fig.get_figure()\n",
    "fig.savefig(\"ConfMatrix2.png\")"
   ]
  },
  {
   "cell_type": "code",
   "execution_count": 26,
   "metadata": {},
   "outputs": [
    {
     "data": {
      "text/plain": [
       "0.7884375"
      ]
     },
     "execution_count": 26,
     "metadata": {},
     "output_type": "execute_result"
    }
   ],
   "source": [
    "accuracy_score(y_test,predicted)"
   ]
  },
  {
   "cell_type": "code",
   "execution_count": 27,
   "metadata": {},
   "outputs": [
    {
     "name": "stdout",
     "output_type": "stream",
     "text": [
      "0.7884375\n"
     ]
    }
   ],
   "source": [
    "# save the model to disk\n",
    "filename = 'finalFEATUREmodel.sav'\n",
    "pickle.dump(logmodel, open(filename, 'wb'))\n",
    "\n",
    "# some time later...\n",
    "\n",
    "# load the model from disk\n",
    "loaded_model = pickle.load(open(filename, 'rb'))\n",
    "result = loaded_model.score(X_test, y_test)\n",
    "# classify = loaded_model.predict(\"get a chance to win $10,000 by clicking this link\")\n",
    "print(result)"
   ]
  },
  {
   "cell_type": "code",
   "execution_count": 28,
   "metadata": {},
   "outputs": [
    {
     "data": {
      "text/html": [
       "<div>\n",
       "<style scoped>\n",
       "    .dataframe tbody tr th:only-of-type {\n",
       "        vertical-align: middle;\n",
       "    }\n",
       "\n",
       "    .dataframe tbody tr th {\n",
       "        vertical-align: top;\n",
       "    }\n",
       "\n",
       "    .dataframe thead th {\n",
       "        text-align: right;\n",
       "    }\n",
       "</style>\n",
       "<table border=\"1\" class=\"dataframe\">\n",
       "  <thead>\n",
       "    <tr style=\"text-align: right;\">\n",
       "      <th></th>\n",
       "      <th>Length</th>\n",
       "      <th>AvgWordLength</th>\n",
       "      <th>StoptoContent</th>\n",
       "      <th>Cardinality</th>\n",
       "      <th>WordCount</th>\n",
       "      <th>Verb</th>\n",
       "      <th>Auxiliary</th>\n",
       "      <th>CoorConj</th>\n",
       "      <th>polarity</th>\n",
       "      <th>subjectivity</th>\n",
       "    </tr>\n",
       "  </thead>\n",
       "  <tbody>\n",
       "    <tr>\n",
       "      <th>31330</th>\n",
       "      <td>39.0</td>\n",
       "      <td>4.714286</td>\n",
       "      <td>0.571429</td>\n",
       "      <td>12110.0</td>\n",
       "      <td>7.0</td>\n",
       "      <td>37934.0</td>\n",
       "      <td>10389.0</td>\n",
       "      <td>3592.0</td>\n",
       "      <td>0.000000</td>\n",
       "      <td>0.000000</td>\n",
       "    </tr>\n",
       "    <tr>\n",
       "      <th>3514</th>\n",
       "      <td>70.0</td>\n",
       "      <td>4.916667</td>\n",
       "      <td>0.416667</td>\n",
       "      <td>1342.0</td>\n",
       "      <td>12.0</td>\n",
       "      <td>4288.0</td>\n",
       "      <td>1188.0</td>\n",
       "      <td>416.0</td>\n",
       "      <td>-0.155556</td>\n",
       "      <td>0.288889</td>\n",
       "    </tr>\n",
       "    <tr>\n",
       "      <th>12363</th>\n",
       "      <td>45.0</td>\n",
       "      <td>4.750000</td>\n",
       "      <td>0.375000</td>\n",
       "      <td>4703.0</td>\n",
       "      <td>8.0</td>\n",
       "      <td>14996.0</td>\n",
       "      <td>4052.0</td>\n",
       "      <td>1389.0</td>\n",
       "      <td>0.000000</td>\n",
       "      <td>0.000000</td>\n",
       "    </tr>\n",
       "    <tr>\n",
       "      <th>25927</th>\n",
       "      <td>55.0</td>\n",
       "      <td>4.600000</td>\n",
       "      <td>0.300000</td>\n",
       "      <td>10000.0</td>\n",
       "      <td>10.0</td>\n",
       "      <td>31345.0</td>\n",
       "      <td>8562.0</td>\n",
       "      <td>2957.0</td>\n",
       "      <td>1.000000</td>\n",
       "      <td>1.000000</td>\n",
       "    </tr>\n",
       "    <tr>\n",
       "      <th>31886</th>\n",
       "      <td>62.0</td>\n",
       "      <td>5.300000</td>\n",
       "      <td>0.300000</td>\n",
       "      <td>12297.0</td>\n",
       "      <td>10.0</td>\n",
       "      <td>38638.0</td>\n",
       "      <td>10581.0</td>\n",
       "      <td>3654.0</td>\n",
       "      <td>0.136364</td>\n",
       "      <td>0.454545</td>\n",
       "    </tr>\n",
       "  </tbody>\n",
       "</table>\n",
       "</div>"
      ],
      "text/plain": [
       "       Length  AvgWordLength  StoptoContent  Cardinality  WordCount     Verb  \\\n",
       "31330    39.0       4.714286       0.571429      12110.0        7.0  37934.0   \n",
       "3514     70.0       4.916667       0.416667       1342.0       12.0   4288.0   \n",
       "12363    45.0       4.750000       0.375000       4703.0        8.0  14996.0   \n",
       "25927    55.0       4.600000       0.300000      10000.0       10.0  31345.0   \n",
       "31886    62.0       5.300000       0.300000      12297.0       10.0  38638.0   \n",
       "\n",
       "       Auxiliary  CoorConj  polarity  subjectivity  \n",
       "31330    10389.0    3592.0  0.000000      0.000000  \n",
       "3514      1188.0     416.0 -0.155556      0.288889  \n",
       "12363     4052.0    1389.0  0.000000      0.000000  \n",
       "25927     8562.0    2957.0  1.000000      1.000000  \n",
       "31886    10581.0    3654.0  0.136364      0.454545  "
      ]
     },
     "execution_count": 28,
     "metadata": {},
     "output_type": "execute_result"
    }
   ],
   "source": [
    "X_test.head()"
   ]
  },
  {
   "cell_type": "code",
   "execution_count": 29,
   "metadata": {},
   "outputs": [
    {
     "data": {
      "text/plain": [
       "'Plan to Shift Military Spending Faces Skepticism'"
      ]
     },
     "execution_count": 29,
     "metadata": {},
     "output_type": "execute_result"
    }
   ],
   "source": [
    "df[\"Clickbaits\"][9]"
   ]
  },
  {
   "cell_type": "code",
   "execution_count": null,
   "metadata": {},
   "outputs": [],
   "source": []
  },
  {
   "cell_type": "code",
   "execution_count": null,
   "metadata": {},
   "outputs": [],
   "source": []
  },
  {
   "cell_type": "code",
   "execution_count": null,
   "metadata": {},
   "outputs": [],
   "source": []
  }
 ],
 "metadata": {
  "kernelspec": {
   "display_name": "Python 3",
   "language": "python",
   "name": "python3"
  },
  "language_info": {
   "codemirror_mode": {
    "name": "ipython",
    "version": 3
   },
   "file_extension": ".py",
   "mimetype": "text/x-python",
   "name": "python",
   "nbconvert_exporter": "python",
   "pygments_lexer": "ipython3",
   "version": "3.6.8"
  }
 },
 "nbformat": 4,
 "nbformat_minor": 2
}
