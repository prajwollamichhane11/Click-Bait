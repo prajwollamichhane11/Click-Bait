{
 "cells": [
  {
   "cell_type": "code",
   "execution_count": 61,
   "metadata": {},
   "outputs": [],
   "source": [
    "import numpy as np\n",
    "import pandas as pd\n",
    "import matplotlib.pyplot as plt\n",
    "\n",
    "from sklearn.model_selection import train_test_split, cross_val_score\n",
    "from sklearn.feature_extraction.text import CountVectorizer, TfidfVectorizer\n",
    "from sklearn.linear_model import LogisticRegression\n",
    "from sklearn.metrics import classification_report, confusion_matrix, accuracy_score"
   ]
  },
  {
   "cell_type": "code",
   "execution_count": 8,
   "metadata": {},
   "outputs": [],
   "source": [
    "df = pd.read_csv(\"featurextacted.csv\")"
   ]
  },
  {
   "cell_type": "code",
   "execution_count": 9,
   "metadata": {},
   "outputs": [
    {
     "data": {
      "text/html": [
       "<div>\n",
       "<style scoped>\n",
       "    .dataframe tbody tr th:only-of-type {\n",
       "        vertical-align: middle;\n",
       "    }\n",
       "\n",
       "    .dataframe tbody tr th {\n",
       "        vertical-align: top;\n",
       "    }\n",
       "\n",
       "    .dataframe thead th {\n",
       "        text-align: right;\n",
       "    }\n",
       "</style>\n",
       "<table border=\"1\" class=\"dataframe\">\n",
       "  <thead>\n",
       "    <tr style=\"text-align: right;\">\n",
       "      <th></th>\n",
       "      <th>Unnamed: 0</th>\n",
       "      <th>Clickbaits</th>\n",
       "      <th>bait</th>\n",
       "      <th>Length</th>\n",
       "      <th>AvgWordLength</th>\n",
       "      <th>StoptoContent</th>\n",
       "      <th>Cardinality</th>\n",
       "      <th>WordCount</th>\n",
       "      <th>Verb</th>\n",
       "      <th>Auxiliary</th>\n",
       "      <th>CoorConj</th>\n",
       "    </tr>\n",
       "  </thead>\n",
       "  <tbody>\n",
       "    <tr>\n",
       "      <th>0</th>\n",
       "      <td>0</td>\n",
       "      <td>Declassified records show American inaction du...</td>\n",
       "      <td>0</td>\n",
       "      <td>77.0</td>\n",
       "      <td>6.800000</td>\n",
       "      <td>0.200000</td>\n",
       "      <td>0.0</td>\n",
       "      <td>10.0</td>\n",
       "      <td>1.0</td>\n",
       "      <td>0.0</td>\n",
       "      <td>0.0</td>\n",
       "    </tr>\n",
       "    <tr>\n",
       "      <th>1</th>\n",
       "      <td>1</td>\n",
       "      <td>Indian Maoists blamed for the deaths of sixtee...</td>\n",
       "      <td>0</td>\n",
       "      <td>57.0</td>\n",
       "      <td>5.444444</td>\n",
       "      <td>0.333333</td>\n",
       "      <td>1.0</td>\n",
       "      <td>9.0</td>\n",
       "      <td>2.0</td>\n",
       "      <td>0.0</td>\n",
       "      <td>0.0</td>\n",
       "    </tr>\n",
       "    <tr>\n",
       "      <th>2</th>\n",
       "      <td>2</td>\n",
       "      <td>Yahoo!7 creates joint venture with Xtra</td>\n",
       "      <td>0</td>\n",
       "      <td>39.0</td>\n",
       "      <td>5.666667</td>\n",
       "      <td>0.166667</td>\n",
       "      <td>1.0</td>\n",
       "      <td>6.0</td>\n",
       "      <td>3.0</td>\n",
       "      <td>0.0</td>\n",
       "      <td>0.0</td>\n",
       "    </tr>\n",
       "    <tr>\n",
       "      <th>3</th>\n",
       "      <td>3</td>\n",
       "      <td>Only Solve This Puzzle If You Love Board Games</td>\n",
       "      <td>1</td>\n",
       "      <td>46.0</td>\n",
       "      <td>4.222222</td>\n",
       "      <td>0.444444</td>\n",
       "      <td>1.0</td>\n",
       "      <td>9.0</td>\n",
       "      <td>5.0</td>\n",
       "      <td>0.0</td>\n",
       "      <td>0.0</td>\n",
       "    </tr>\n",
       "    <tr>\n",
       "      <th>4</th>\n",
       "      <td>4</td>\n",
       "      <td>Three dead in murder-suicide shooting at South...</td>\n",
       "      <td>0</td>\n",
       "      <td>81.0</td>\n",
       "      <td>6.454545</td>\n",
       "      <td>0.272727</td>\n",
       "      <td>2.0</td>\n",
       "      <td>11.0</td>\n",
       "      <td>5.0</td>\n",
       "      <td>0.0</td>\n",
       "      <td>0.0</td>\n",
       "    </tr>\n",
       "  </tbody>\n",
       "</table>\n",
       "</div>"
      ],
      "text/plain": [
       "   Unnamed: 0                                         Clickbaits  bait  \\\n",
       "0           0  Declassified records show American inaction du...     0   \n",
       "1           1  Indian Maoists blamed for the deaths of sixtee...     0   \n",
       "2           2            Yahoo!7 creates joint venture with Xtra     0   \n",
       "3           3     Only Solve This Puzzle If You Love Board Games     1   \n",
       "4           4  Three dead in murder-suicide shooting at South...     0   \n",
       "\n",
       "   Length  AvgWordLength  StoptoContent  Cardinality  WordCount  Verb  \\\n",
       "0    77.0       6.800000       0.200000          0.0       10.0   1.0   \n",
       "1    57.0       5.444444       0.333333          1.0        9.0   2.0   \n",
       "2    39.0       5.666667       0.166667          1.0        6.0   3.0   \n",
       "3    46.0       4.222222       0.444444          1.0        9.0   5.0   \n",
       "4    81.0       6.454545       0.272727          2.0       11.0   5.0   \n",
       "\n",
       "   Auxiliary  CoorConj  \n",
       "0        0.0       0.0  \n",
       "1        0.0       0.0  \n",
       "2        0.0       0.0  \n",
       "3        0.0       0.0  \n",
       "4        0.0       0.0  "
      ]
     },
     "execution_count": 9,
     "metadata": {},
     "output_type": "execute_result"
    }
   ],
   "source": [
    "df.head()"
   ]
  },
  {
   "cell_type": "code",
   "execution_count": 10,
   "metadata": {},
   "outputs": [],
   "source": [
    "df.drop([\"Unnamed: 0\"],axis=1,inplace=True)"
   ]
  },
  {
   "cell_type": "code",
   "execution_count": 11,
   "metadata": {},
   "outputs": [
    {
     "data": {
      "text/html": [
       "<div>\n",
       "<style scoped>\n",
       "    .dataframe tbody tr th:only-of-type {\n",
       "        vertical-align: middle;\n",
       "    }\n",
       "\n",
       "    .dataframe tbody tr th {\n",
       "        vertical-align: top;\n",
       "    }\n",
       "\n",
       "    .dataframe thead th {\n",
       "        text-align: right;\n",
       "    }\n",
       "</style>\n",
       "<table border=\"1\" class=\"dataframe\">\n",
       "  <thead>\n",
       "    <tr style=\"text-align: right;\">\n",
       "      <th></th>\n",
       "      <th>Clickbaits</th>\n",
       "      <th>bait</th>\n",
       "      <th>Length</th>\n",
       "      <th>AvgWordLength</th>\n",
       "      <th>StoptoContent</th>\n",
       "      <th>Cardinality</th>\n",
       "      <th>WordCount</th>\n",
       "      <th>Verb</th>\n",
       "      <th>Auxiliary</th>\n",
       "      <th>CoorConj</th>\n",
       "    </tr>\n",
       "  </thead>\n",
       "  <tbody>\n",
       "    <tr>\n",
       "      <th>0</th>\n",
       "      <td>Declassified records show American inaction du...</td>\n",
       "      <td>0</td>\n",
       "      <td>77.0</td>\n",
       "      <td>6.800000</td>\n",
       "      <td>0.200000</td>\n",
       "      <td>0.0</td>\n",
       "      <td>10.0</td>\n",
       "      <td>1.0</td>\n",
       "      <td>0.0</td>\n",
       "      <td>0.0</td>\n",
       "    </tr>\n",
       "    <tr>\n",
       "      <th>1</th>\n",
       "      <td>Indian Maoists blamed for the deaths of sixtee...</td>\n",
       "      <td>0</td>\n",
       "      <td>57.0</td>\n",
       "      <td>5.444444</td>\n",
       "      <td>0.333333</td>\n",
       "      <td>1.0</td>\n",
       "      <td>9.0</td>\n",
       "      <td>2.0</td>\n",
       "      <td>0.0</td>\n",
       "      <td>0.0</td>\n",
       "    </tr>\n",
       "    <tr>\n",
       "      <th>2</th>\n",
       "      <td>Yahoo!7 creates joint venture with Xtra</td>\n",
       "      <td>0</td>\n",
       "      <td>39.0</td>\n",
       "      <td>5.666667</td>\n",
       "      <td>0.166667</td>\n",
       "      <td>1.0</td>\n",
       "      <td>6.0</td>\n",
       "      <td>3.0</td>\n",
       "      <td>0.0</td>\n",
       "      <td>0.0</td>\n",
       "    </tr>\n",
       "    <tr>\n",
       "      <th>3</th>\n",
       "      <td>Only Solve This Puzzle If You Love Board Games</td>\n",
       "      <td>1</td>\n",
       "      <td>46.0</td>\n",
       "      <td>4.222222</td>\n",
       "      <td>0.444444</td>\n",
       "      <td>1.0</td>\n",
       "      <td>9.0</td>\n",
       "      <td>5.0</td>\n",
       "      <td>0.0</td>\n",
       "      <td>0.0</td>\n",
       "    </tr>\n",
       "    <tr>\n",
       "      <th>4</th>\n",
       "      <td>Three dead in murder-suicide shooting at South...</td>\n",
       "      <td>0</td>\n",
       "      <td>81.0</td>\n",
       "      <td>6.454545</td>\n",
       "      <td>0.272727</td>\n",
       "      <td>2.0</td>\n",
       "      <td>11.0</td>\n",
       "      <td>5.0</td>\n",
       "      <td>0.0</td>\n",
       "      <td>0.0</td>\n",
       "    </tr>\n",
       "  </tbody>\n",
       "</table>\n",
       "</div>"
      ],
      "text/plain": [
       "                                          Clickbaits  bait  Length  \\\n",
       "0  Declassified records show American inaction du...     0    77.0   \n",
       "1  Indian Maoists blamed for the deaths of sixtee...     0    57.0   \n",
       "2            Yahoo!7 creates joint venture with Xtra     0    39.0   \n",
       "3     Only Solve This Puzzle If You Love Board Games     1    46.0   \n",
       "4  Three dead in murder-suicide shooting at South...     0    81.0   \n",
       "\n",
       "   AvgWordLength  StoptoContent  Cardinality  WordCount  Verb  Auxiliary  \\\n",
       "0       6.800000       0.200000          0.0       10.0   1.0        0.0   \n",
       "1       5.444444       0.333333          1.0        9.0   2.0        0.0   \n",
       "2       5.666667       0.166667          1.0        6.0   3.0        0.0   \n",
       "3       4.222222       0.444444          1.0        9.0   5.0        0.0   \n",
       "4       6.454545       0.272727          2.0       11.0   5.0        0.0   \n",
       "\n",
       "   CoorConj  \n",
       "0       0.0  \n",
       "1       0.0  \n",
       "2       0.0  \n",
       "3       0.0  \n",
       "4       0.0  "
      ]
     },
     "execution_count": 11,
     "metadata": {},
     "output_type": "execute_result"
    }
   ],
   "source": [
    "df.head()"
   ]
  },
  {
   "cell_type": "code",
   "execution_count": 34,
   "metadata": {},
   "outputs": [],
   "source": [
    "#Splitting the Data into Train and Test with 0.25 as test sets\n",
    "X_train,X_test,y_train,y_test=train_test_split(df.Clickbaits,df.bait,test_size=0.20,random_state=0)"
   ]
  },
  {
   "cell_type": "code",
   "execution_count": 35,
   "metadata": {},
   "outputs": [],
   "source": [
    "#Using the Tfid Vectorizer because the size of the dataset is Large\n",
    "vectorizer = TfidfVectorizer()\n",
    "tfidf_train_x = vectorizer.fit_transform(X_train)"
   ]
  },
  {
   "cell_type": "code",
   "execution_count": 36,
   "metadata": {},
   "outputs": [
    {
     "name": "stderr",
     "output_type": "stream",
     "text": [
      "/home/prajwol/anaconda3/lib/python3.6/site-packages/sklearn/linear_model/logistic.py:432: FutureWarning: Default solver will be changed to 'lbfgs' in 0.22. Specify a solver to silence this warning.\n",
      "  FutureWarning)\n"
     ]
    },
    {
     "data": {
      "text/plain": [
       "LogisticRegression(C=1.0, class_weight=None, dual=False, fit_intercept=True,\n",
       "                   intercept_scaling=1, l1_ratio=None, max_iter=100,\n",
       "                   multi_class='warn', n_jobs=None, penalty='l2',\n",
       "                   random_state=None, solver='warn', tol=0.0001, verbose=0,\n",
       "                   warm_start=False)"
      ]
     },
     "execution_count": 36,
     "metadata": {},
     "output_type": "execute_result"
    }
   ],
   "source": [
    "#Now using the Logistic Regression Algorithm\n",
    "classifier = LogisticRegression()\n",
    "classifier.fit(tfidf_train_x, y_train)"
   ]
  },
  {
   "cell_type": "code",
   "execution_count": 37,
   "metadata": {},
   "outputs": [
    {
     "name": "stdout",
     "output_type": "stream",
     "text": [
      "(6400, 20649)\n"
     ]
    },
    {
     "data": {
      "text/plain": [
       "<6400x20649 sparse matrix of type '<class 'numpy.float64'>'\n",
       "\twith 54130 stored elements in Compressed Sparse Row format>"
      ]
     },
     "execution_count": 37,
     "metadata": {},
     "output_type": "execute_result"
    }
   ],
   "source": [
    "#After transform the test data will be stored as a float in case of TFID\n",
    "tfidf_test_x = vectorizer.transform(X_test)\n",
    "print(tfidf_test_x.shape)\n",
    "tfidf_test_x"
   ]
  },
  {
   "cell_type": "code",
   "execution_count": 38,
   "metadata": {},
   "outputs": [
    {
     "name": "stdout",
     "output_type": "stream",
     "text": [
      "95.06263312347907\n"
     ]
    },
    {
     "name": "stderr",
     "output_type": "stream",
     "text": [
      "/home/prajwol/anaconda3/lib/python3.6/site-packages/sklearn/linear_model/logistic.py:432: FutureWarning: Default solver will be changed to 'lbfgs' in 0.22. Specify a solver to silence this warning.\n",
      "  FutureWarning)\n"
     ]
    }
   ],
   "source": [
    "#Finding the Accuracy Score for the Algorithm\n",
    "accuracy = cross_val_score(classifier, tfidf_test_x, y_test, cv=5)\n",
    "acc = accuracy.mean()\n",
    "print(acc * 100)"
   ]
  },
  {
   "cell_type": "code",
   "execution_count": 41,
   "metadata": {},
   "outputs": [
    {
     "name": "stdout",
     "output_type": "stream",
     "text": [
      "Enter the sentence or phrase you want to validate: \n",
      "\n",
      "\n",
      "\n",
      "---------------------------------------------------------\n",
      "NOT a CLICKBAIT\n",
      "---------------------------------------------------------\n"
     ]
    }
   ],
   "source": [
    "#Enter anything to check its validity\n",
    "print(\"Enter the sentence or phrase you want to validate: \\n\\n\")\n",
    "inpPhrase = [input()]\n",
    "output = classifier.predict(vectorizer.transform(inpPhrase))\n",
    "print(\"---------------------------------------------------------\")\n",
    "if output == 1:\n",
    "    print(\"CLICKBAIT\")\n",
    "else:\n",
    "    print(\"NOT a CLICKBAIT\")\n",
    "print(\"---------------------------------------------------------\")"
   ]
  },
  {
   "cell_type": "code",
   "execution_count": 48,
   "metadata": {},
   "outputs": [
    {
     "data": {
      "text/html": [
       "<div>\n",
       "<style scoped>\n",
       "    .dataframe tbody tr th:only-of-type {\n",
       "        vertical-align: middle;\n",
       "    }\n",
       "\n",
       "    .dataframe tbody tr th {\n",
       "        vertical-align: top;\n",
       "    }\n",
       "\n",
       "    .dataframe thead th {\n",
       "        text-align: right;\n",
       "    }\n",
       "</style>\n",
       "<table border=\"1\" class=\"dataframe\">\n",
       "  <thead>\n",
       "    <tr style=\"text-align: right;\">\n",
       "      <th></th>\n",
       "      <th>Clickbaits</th>\n",
       "      <th>bait</th>\n",
       "      <th>Length</th>\n",
       "      <th>AvgWordLength</th>\n",
       "      <th>StoptoContent</th>\n",
       "      <th>Cardinality</th>\n",
       "      <th>WordCount</th>\n",
       "      <th>Verb</th>\n",
       "      <th>Auxiliary</th>\n",
       "      <th>CoorConj</th>\n",
       "    </tr>\n",
       "  </thead>\n",
       "  <tbody>\n",
       "    <tr>\n",
       "      <th>0</th>\n",
       "      <td>Declassified records show American inaction du...</td>\n",
       "      <td>0</td>\n",
       "      <td>77.0</td>\n",
       "      <td>6.800000</td>\n",
       "      <td>0.200000</td>\n",
       "      <td>0.0</td>\n",
       "      <td>10.0</td>\n",
       "      <td>1.0</td>\n",
       "      <td>0.0</td>\n",
       "      <td>0.0</td>\n",
       "    </tr>\n",
       "    <tr>\n",
       "      <th>1</th>\n",
       "      <td>Indian Maoists blamed for the deaths of sixtee...</td>\n",
       "      <td>0</td>\n",
       "      <td>57.0</td>\n",
       "      <td>5.444444</td>\n",
       "      <td>0.333333</td>\n",
       "      <td>1.0</td>\n",
       "      <td>9.0</td>\n",
       "      <td>2.0</td>\n",
       "      <td>0.0</td>\n",
       "      <td>0.0</td>\n",
       "    </tr>\n",
       "    <tr>\n",
       "      <th>2</th>\n",
       "      <td>Yahoo!7 creates joint venture with Xtra</td>\n",
       "      <td>0</td>\n",
       "      <td>39.0</td>\n",
       "      <td>5.666667</td>\n",
       "      <td>0.166667</td>\n",
       "      <td>1.0</td>\n",
       "      <td>6.0</td>\n",
       "      <td>3.0</td>\n",
       "      <td>0.0</td>\n",
       "      <td>0.0</td>\n",
       "    </tr>\n",
       "  </tbody>\n",
       "</table>\n",
       "</div>"
      ],
      "text/plain": [
       "                                          Clickbaits  bait  Length  \\\n",
       "0  Declassified records show American inaction du...     0    77.0   \n",
       "1  Indian Maoists blamed for the deaths of sixtee...     0    57.0   \n",
       "2            Yahoo!7 creates joint venture with Xtra     0    39.0   \n",
       "\n",
       "   AvgWordLength  StoptoContent  Cardinality  WordCount  Verb  Auxiliary  \\\n",
       "0       6.800000       0.200000          0.0       10.0   1.0        0.0   \n",
       "1       5.444444       0.333333          1.0        9.0   2.0        0.0   \n",
       "2       5.666667       0.166667          1.0        6.0   3.0        0.0   \n",
       "\n",
       "   CoorConj  \n",
       "0       0.0  \n",
       "1       0.0  \n",
       "2       0.0  "
      ]
     },
     "execution_count": 48,
     "metadata": {},
     "output_type": "execute_result"
    }
   ],
   "source": [
    "df.head(3)"
   ]
  },
  {
   "cell_type": "markdown",
   "metadata": {},
   "source": [
    "## Training Data"
   ]
  },
  {
   "cell_type": "code",
   "execution_count": 50,
   "metadata": {},
   "outputs": [],
   "source": [
    "X = df.drop([\"Clickbaits\",\"bait\"],axis=1)\n",
    "y = df.bait"
   ]
  },
  {
   "cell_type": "code",
   "execution_count": 51,
   "metadata": {},
   "outputs": [],
   "source": [
    "#Splitting the Data into Train and Test with 0.25 as test sets\n",
    "X_train,X_test,y_train,y_test=train_test_split(X,y,test_size=0.20,random_state=0)"
   ]
  },
  {
   "cell_type": "code",
   "execution_count": 52,
   "metadata": {},
   "outputs": [],
   "source": [
    "logmodel = LogisticRegression()"
   ]
  },
  {
   "cell_type": "code",
   "execution_count": 53,
   "metadata": {},
   "outputs": [
    {
     "name": "stderr",
     "output_type": "stream",
     "text": [
      "/home/prajwol/anaconda3/lib/python3.6/site-packages/sklearn/linear_model/logistic.py:432: FutureWarning: Default solver will be changed to 'lbfgs' in 0.22. Specify a solver to silence this warning.\n",
      "  FutureWarning)\n"
     ]
    },
    {
     "data": {
      "text/plain": [
       "LogisticRegression(C=1.0, class_weight=None, dual=False, fit_intercept=True,\n",
       "                   intercept_scaling=1, l1_ratio=None, max_iter=100,\n",
       "                   multi_class='warn', n_jobs=None, penalty='l2',\n",
       "                   random_state=None, solver='warn', tol=0.0001, verbose=0,\n",
       "                   warm_start=False)"
      ]
     },
     "execution_count": 53,
     "metadata": {},
     "output_type": "execute_result"
    }
   ],
   "source": [
    "logmodel.fit(X_train,y_train)"
   ]
  },
  {
   "cell_type": "code",
   "execution_count": 54,
   "metadata": {},
   "outputs": [],
   "source": [
    "predicted = logmodel.predict(X_test)"
   ]
  },
  {
   "cell_type": "code",
   "execution_count": 56,
   "metadata": {},
   "outputs": [
    {
     "data": {
      "text/plain": [
       "'              precision    recall  f1-score   support\\n\\n           0       0.75      0.77      0.76      3179\\n           1       0.77      0.75      0.76      3221\\n\\n    accuracy                           0.76      6400\\n   macro avg       0.76      0.76      0.76      6400\\nweighted avg       0.76      0.76      0.76      6400\\n'"
      ]
     },
     "execution_count": 56,
     "metadata": {},
     "output_type": "execute_result"
    }
   ],
   "source": [
    "classification_report(y_test,predicted)"
   ]
  },
  {
   "cell_type": "code",
   "execution_count": 59,
   "metadata": {},
   "outputs": [
    {
     "data": {
      "text/plain": [
       "array([[2445,  734],\n",
       "       [ 810, 2411]])"
      ]
     },
     "execution_count": 59,
     "metadata": {},
     "output_type": "execute_result"
    }
   ],
   "source": [
    "confusion_matrix(y_test,predicted)"
   ]
  },
  {
   "cell_type": "code",
   "execution_count": 62,
   "metadata": {},
   "outputs": [
    {
     "data": {
      "text/plain": [
       "0.75875"
      ]
     },
     "execution_count": 62,
     "metadata": {},
     "output_type": "execute_result"
    }
   ],
   "source": [
    "accuracy_score(y_test,predicted)"
   ]
  },
  {
   "cell_type": "code",
   "execution_count": null,
   "metadata": {},
   "outputs": [],
   "source": []
  }
 ],
 "metadata": {
  "kernelspec": {
   "display_name": "Python 3",
   "language": "python",
   "name": "python3"
  },
  "language_info": {
   "codemirror_mode": {
    "name": "ipython",
    "version": 3
   },
   "file_extension": ".py",
   "mimetype": "text/x-python",
   "name": "python",
   "nbconvert_exporter": "python",
   "pygments_lexer": "ipython3",
   "version": "3.6.8"
  }
 },
 "nbformat": 4,
 "nbformat_minor": 2
}
