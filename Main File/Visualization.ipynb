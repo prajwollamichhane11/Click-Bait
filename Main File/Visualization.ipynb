{
 "cells": [
  {
   "cell_type": "code",
   "execution_count": 1,
   "metadata": {},
   "outputs": [
    {
     "name": "stderr",
     "output_type": "stream",
     "text": [
      "/home/prajwol/anaconda3/lib/python3.6/importlib/_bootstrap.py:219: RuntimeWarning: numpy.ufunc size changed, may indicate binary incompatibility. Expected 192 from C header, got 216 from PyObject\n",
      "  return f(*args, **kwds)\n"
     ]
    }
   ],
   "source": [
    "import numpy as np\n",
    "import pandas as pd\n",
    "import matplotlib.pyplot as plt\n",
    "import spacy"
   ]
  },
  {
   "cell_type": "code",
   "execution_count": 5,
   "metadata": {},
   "outputs": [
    {
     "name": "stdout",
     "output_type": "stream",
     "text": [
      "'1.Data Pre-Processing.ipynb'\t\t       dataset.csv\r\n",
      " 2.ClassificationUsingCosineSimilarity.ipynb   featurextacted.csv\r\n",
      " 3.Feature-Extractions.ipynb\t\t       non_clickbait_data\r\n",
      " 4.LogisticRegressionClassification.ipynb      NonClickbaits.csv\r\n",
      " clickbait_data\t\t\t\t       README.md\r\n",
      " Clickbaits.csv\t\t\t\t       Visualization.ipynb\r\n"
     ]
    }
   ],
   "source": [
    "!ls"
   ]
  },
  {
   "cell_type": "code",
   "execution_count": 6,
   "metadata": {},
   "outputs": [],
   "source": [
    "clkbait = pd.read_csv(\"Clickbaits.csv\")\n",
    "nonclkbait = pd.read_csv(\"NonClickbaits.csv\")"
   ]
  },
  {
   "cell_type": "code",
   "execution_count": 7,
   "metadata": {},
   "outputs": [],
   "source": [
    "lenclick = len(clkbait)\n",
    "lennonclick = len(nonclkbait)"
   ]
  },
  {
   "cell_type": "code",
   "execution_count": 25,
   "metadata": {},
   "outputs": [],
   "source": [
    "nlp = spacy.load('en_core_web_sm')"
   ]
  },
  {
   "cell_type": "code",
   "execution_count": 37,
   "metadata": {},
   "outputs": [],
   "source": [
    "def clickPOS():\n",
    "    ccntPOS = []\n",
    "    vrb,pron,aux,noun,det,propn,adp,punct,adv,adj,part,cconj,intj,x,num,sym,sconj,space = 0,0,0,0,0,0,0,0,0,0,0,0,0,0,0,0,0,0\n",
    "    for i in range(lenclick):\n",
    "        doc = nlp(clkbait[\"Clickbaits\"][i])\n",
    "        for token in doc:\n",
    "            if token.pos_ == \"VERB\":\n",
    "                vrb += 1\n",
    "            elif token.pos_ == \"PRON\":\n",
    "                pron += 1\n",
    "            elif token.pos_ == \"AUX\":\n",
    "                aux += 1\n",
    "            elif token.pos_ == \"NOUN\":\n",
    "                noun += 1\n",
    "            elif token.pos_ == \"DET\":\n",
    "                det += 1\n",
    "            elif token.pos_ == \"PROPN\":\n",
    "                propn += 1\n",
    "            elif token.pos_ == \"ADP\":\n",
    "                adp += 1\n",
    "            elif token.pos_ == \"PUNCT\":\n",
    "                punct += 1\n",
    "            elif token.pos_ == \"ADJ\":\n",
    "                adj += 1\n",
    "            elif token.pos_ == \"ADV\":\n",
    "                adv += 1\n",
    "            elif token.pos_ == \"PART\":\n",
    "                part += 1\n",
    "            elif token.pos_ == \"CCONJ\":\n",
    "                cconj += 1\n",
    "            elif token.pos_ == \"INTJ\":\n",
    "                intj += 1\n",
    "            elif token.pos_ == \"X\":\n",
    "                x += 1\n",
    "            elif token.pos_ == \"NUM\":\n",
    "                num += 1\n",
    "            elif token.pos_ == \"SYM\":\n",
    "                sym += 1\n",
    "            elif token.pos_ == \"SCONJ\":\n",
    "                sconj += 1\n",
    "            elif token.pos_ == \"SPACE\":\n",
    "                space += 1\n",
    "            ccntPOS.append(token.pos_)\n",
    "    clickPOS_CNT = [propn,part,noun,adv,cconj,pron,intj,adj,x,aux,num,adp,sym,vrb,det,punct,sconj,space]\n",
    "    return (set(ccntPOS),clickPOS_CNT)"
   ]
  },
  {
   "cell_type": "code",
   "execution_count": 48,
   "metadata": {},
   "outputs": [],
   "source": [
    "def nonclickPOS():\n",
    "    nccntPOS = []\n",
    "    vrb,pron,aux,noun,det,propn,adp,punct,adv,adj,part,cconj,intj,x,num,sym,sconj,space = 0,0,0,0,0,0,0,0,0,0,0,0,0,0,0,0,0,0\n",
    "    for i in range(lennonclick):\n",
    "        doc = nlp(nonclkbait[\"Clickbaits\"][i])\n",
    "        for token in doc:\n",
    "            if token.pos_ == \"VERB\":\n",
    "                vrb += 1\n",
    "            elif token.pos_ == \"PRON\":\n",
    "                pron += 1\n",
    "            elif token.pos_ == \"AUX\":\n",
    "                aux += 1\n",
    "            elif token.pos_ == \"NOUN\":\n",
    "                noun += 1\n",
    "            elif token.pos_ == \"DET\":\n",
    "                det += 1\n",
    "            elif token.pos_ == \"PROPN\":\n",
    "                propn += 1\n",
    "            elif token.pos_ == \"ADP\":\n",
    "                adp += 1\n",
    "            elif token.pos_ == \"PUNCT\":\n",
    "                punct += 1\n",
    "            elif token.pos_ == \"ADJ\":\n",
    "                adj += 1\n",
    "            elif token.pos_ == \"ADV\":\n",
    "                adv += 1\n",
    "            elif token.pos_ == \"PART\":\n",
    "                part += 1\n",
    "            elif token.pos_ == \"CCONJ\":\n",
    "                cconj += 1\n",
    "            elif token.pos_ == \"INTJ\":\n",
    "                intj += 1\n",
    "            elif token.pos_ == \"X\":\n",
    "                x += 1\n",
    "            elif token.pos_ == \"NUM\":\n",
    "                num += 1\n",
    "            elif token.pos_ == \"SYM\":\n",
    "                sym += 1\n",
    "            elif token.pos_ == \"SCONJ\":\n",
    "                sconj += 1\n",
    "            elif token.pos_ == \"SPACE\":\n",
    "                space += 1\n",
    "            nccntPOS.append(token.pos_)\n",
    "    nonclickPOS_CNT = [propn,part,noun,adv,cconj,pron,intj,adj,x,aux,num,adp,sym,vrb,det,punct,sconj,space]\n",
    "    return (nonclickPOS_CNT)"
   ]
  },
  {
   "cell_type": "code",
   "execution_count": 49,
   "metadata": {},
   "outputs": [],
   "source": [
    "labels,clickPOS_CNT = clickPOS()\n",
    "nonclickPOS_CNT = nonclickPOS()\n",
    "labels = list(labels)"
   ]
  },
  {
   "cell_type": "code",
   "execution_count": 50,
   "metadata": {},
   "outputs": [
    {
     "data": {
      "image/png": "[encoded data removed]",
      "text/plain": [
       "<Figure size 432x288 with 1 Axes>"
      ]
     },
     "metadata": {
      "needs_background": "light"
     },
     "output_type": "display_data"
    }
   ],
   "source": [
    "x = np.arange(len(labels))  # the label locations\n",
    "width = 0.35  # the width of the bars\n",
    "\n",
    "fig, ax = plt.subplots()\n",
    "rects1 = ax.bar(x - width/2, clickPOS_CNT, width, label='Clickbaits')\n",
    "rects2 = ax.bar(x + width/2, nonclickPOS_CNT, width, label='Non Clickbaits')\n",
    "\n",
    "# Add some text for labels, title and custom x-axis tick labels, etc.\n",
    "ax.set_ylabel('No. of POS')\n",
    "ax.set_title('POS tags on Samples')\n",
    "ax.set_xticks(x)\n",
    "ax.set_xticklabels(labels)\n",
    "ax.legend()\n",
    "\n",
    "fig.tight_layout()\n",
    "\n",
    "plt.show()"
   ]
  },
  {
   "cell_type": "code",
   "execution_count": null,
   "metadata": {},
   "outputs": [],
   "source": []
  }
 ],
 "metadata": {
  "kernelspec": {
   "display_name": "Python 3",
   "language": "python",
   "name": "python3"
  },
  "language_info": {
   "codemirror_mode": {
    "name": "ipython",
    "version": 3
   },
   "file_extension": ".py",
   "mimetype": "text/x-python",
   "name": "python",
   "nbconvert_exporter": "python",
   "pygments_lexer": "ipython3",
   "version": "3.6.8"
  }
 },
 "nbformat": 4,
 "nbformat_minor": 2
}
