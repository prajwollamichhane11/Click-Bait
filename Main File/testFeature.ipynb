{
 "cells": [
  {
   "cell_type": "code",
   "execution_count": 54,
   "metadata": {},
   "outputs": [],
   "source": [
    "import numpy as np\n",
    "import pandas as pd\n",
    "import matplotlib.pyplot as plt\n",
    "\n",
    "import spacy\n",
    "from spacy.tokenizer import Tokenizer\n",
    "\n",
    "import pickle\n",
    "\n",
    "from sklearn.model_selection import train_test_split, cross_val_score\n",
    "from sklearn.feature_extraction.text import CountVectorizer, TfidfVectorizer\n",
    "from sklearn.linear_model import LogisticRegression\n",
    "from sklearn.metrics import classification_report, confusion_matrix, accuracy_score"
   ]
  },
  {
   "cell_type": "code",
   "execution_count": 84,
   "metadata": {
    "scrolled": true
   },
   "outputs": [
    {
     "name": "stdout",
     "output_type": "stream",
     "text": [
      "Input the text you want to verify: The Food Porn Industry Will Never Be The Same Because Of This Huevos Rancheros Recipe\n"
     ]
    }
   ],
   "source": [
    "############\n",
    "nlp = spacy.load('en_core_web_sm')\n",
    "tokenizer = Tokenizer(nlp.vocab)\n",
    "\n",
    "df = pd.read_csv(\"dataset.csv\")\n",
    "##############\n",
    "#\n",
    "inpDF = pd.DataFrame(np.nan, index=[0], columns=['Clickbaits'])\n",
    "#\n",
    "inp = input(\"Input the text you want to verify: \")\n",
    "#\n",
    "inpDF[\"Clickbaits\"][0] = inp"
   ]
  },
  {
   "cell_type": "code",
   "execution_count": null,
   "metadata": {},
   "outputs": [],
   "source": []
  },
  {
   "cell_type": "code",
   "execution_count": 85,
   "metadata": {},
   "outputs": [],
   "source": [
    "def calculator(sentence):\n",
    "    arr = sentence.split(\" \")\n",
    "    totalChar = len(sentence)-(len(arr)-1)\n",
    "    avgWordLength = totalChar/len(arr)\n",
    "    \n",
    "    s = sentence\n",
    "    tokens = tokenizer(s)\n",
    "    \n",
    "    stopWords = 0\n",
    "    for token in tokens:\n",
    "        if token.is_stop == True:\n",
    "            stopWords += 1\n",
    "    \n",
    "    stopWordtoContentWord = stopWords/len(arr)\n",
    "    \n",
    "    return avgWordLength,stopWordtoContentWord,len(arr)"
   ]
  },
  {
   "cell_type": "code",
   "execution_count": 86,
   "metadata": {},
   "outputs": [],
   "source": [
    "inpDF[\"Length\"] = np.zeros((1,1),dtype=float)\n",
    "inpDF[\"AvgWordLength\"] = np.zeros((1,1),dtype=float)\n",
    "inpDF[\"StoptoContent\"] = np.zeros((1,1),dtype=float)\n",
    "inpDF[\"Cardinality\"] = np.zeros((1,1),dtype=float)\n",
    "inpDF[\"WordCount\"] = np.zeros((1,1),dtype=float)\n",
    "inpDF[\"Verb\"] = np.zeros((1,1),dtype=float)\n",
    "inpDF[\"Auxiliary\"] = np.zeros((1,1),dtype=float)\n",
    "inpDF[\"CoorConj\"] = np.zeros((1,1),dtype=float)"
   ]
  },
  {
   "cell_type": "code",
   "execution_count": 87,
   "metadata": {},
   "outputs": [
    {
     "name": "stderr",
     "output_type": "stream",
     "text": [
      "/home/prajwol/anaconda3/lib/python3.6/site-packages/ipykernel_launcher.py:1: SettingWithCopyWarning: \n",
      "A value is trying to be set on a copy of a slice from a DataFrame\n",
      "\n",
      "See the caveats in the documentation: http://pandas.pydata.org/pandas-docs/stable/user_guide/indexing.html#returning-a-view-versus-a-copy\n",
      "  \"\"\"Entry point for launching an IPython kernel.\n",
      "/home/prajwol/anaconda3/lib/python3.6/site-packages/ipykernel_launcher.py:5: SettingWithCopyWarning: \n",
      "A value is trying to be set on a copy of a slice from a DataFrame\n",
      "\n",
      "See the caveats in the documentation: http://pandas.pydata.org/pandas-docs/stable/user_guide/indexing.html#returning-a-view-versus-a-copy\n",
      "  \"\"\"\n",
      "/home/prajwol/anaconda3/lib/python3.6/site-packages/ipykernel_launcher.py:6: SettingWithCopyWarning: \n",
      "A value is trying to be set on a copy of a slice from a DataFrame\n",
      "\n",
      "See the caveats in the documentation: http://pandas.pydata.org/pandas-docs/stable/user_guide/indexing.html#returning-a-view-versus-a-copy\n",
      "  \n",
      "/home/prajwol/anaconda3/lib/python3.6/site-packages/ipykernel_launcher.py:7: SettingWithCopyWarning: \n",
      "A value is trying to be set on a copy of a slice from a DataFrame\n",
      "\n",
      "See the caveats in the documentation: http://pandas.pydata.org/pandas-docs/stable/user_guide/indexing.html#returning-a-view-versus-a-copy\n",
      "  import sys\n"
     ]
    }
   ],
   "source": [
    "inpDF[\"Length\"][0] = len(df[\"Clickbaits\"][0])\n",
    "\n",
    "avgWordLength,stopWordtoContentWord,wordCount = calculator(df[\"Clickbaits\"][0])\n",
    "\n",
    "inpDF[\"AvgWordLength\"][0] = avgWordLength\n",
    "inpDF[\"StoptoContent\"][0] = stopWordtoContentWord\n",
    "inpDF[\"WordCount\"][0]     = wordCount"
   ]
  },
  {
   "cell_type": "code",
   "execution_count": 88,
   "metadata": {},
   "outputs": [
    {
     "name": "stderr",
     "output_type": "stream",
     "text": [
      "/home/prajwol/anaconda3/lib/python3.6/site-packages/ipykernel_launcher.py:17: SettingWithCopyWarning: \n",
      "A value is trying to be set on a copy of a slice from a DataFrame\n",
      "\n",
      "See the caveats in the documentation: http://pandas.pydata.org/pandas-docs/stable/user_guide/indexing.html#returning-a-view-versus-a-copy\n",
      "/home/prajwol/anaconda3/lib/python3.6/site-packages/ipykernel_launcher.py:18: SettingWithCopyWarning: \n",
      "A value is trying to be set on a copy of a slice from a DataFrame\n",
      "\n",
      "See the caveats in the documentation: http://pandas.pydata.org/pandas-docs/stable/user_guide/indexing.html#returning-a-view-versus-a-copy\n",
      "/home/prajwol/anaconda3/lib/python3.6/site-packages/ipykernel_launcher.py:19: SettingWithCopyWarning: \n",
      "A value is trying to be set on a copy of a slice from a DataFrame\n",
      "\n",
      "See the caveats in the documentation: http://pandas.pydata.org/pandas-docs/stable/user_guide/indexing.html#returning-a-view-versus-a-copy\n",
      "/home/prajwol/anaconda3/lib/python3.6/site-packages/ipykernel_launcher.py:20: SettingWithCopyWarning: \n",
      "A value is trying to be set on a copy of a slice from a DataFrame\n",
      "\n",
      "See the caveats in the documentation: http://pandas.pydata.org/pandas-docs/stable/user_guide/indexing.html#returning-a-view-versus-a-copy\n"
     ]
    }
   ],
   "source": [
    "num = 0\n",
    "verb = 0\n",
    "aux = 0\n",
    "cconj = 0\n",
    "\n",
    "doc = nlp(inpDF[\"Clickbaits\"][0])\n",
    "for token in doc:\n",
    "    if token.pos_ == \"NUM\":\n",
    "        num += 1\n",
    "    if token.pos_ == \"VERB\":\n",
    "        verb += 1\n",
    "    if token.pos_ == \"AUX\":\n",
    "        aux += 1\n",
    "    if token.pos_ == \"CCONJ\":\n",
    "        cconj += 1\n",
    "\n",
    "inpDF[\"Cardinality\"][0] = num\n",
    "inpDF[\"Verb\"][0] = verb\n",
    "inpDF[\"Auxiliary\"][0] = aux\n",
    "inpDF[\"CoorConj\"][0] = cconj"
   ]
  },
  {
   "cell_type": "code",
   "execution_count": 91,
   "metadata": {},
   "outputs": [],
   "source": [
    "X = inpDF.drop(\"Clickbaits\",axis=1)"
   ]
  },
  {
   "cell_type": "code",
   "execution_count": 94,
   "metadata": {},
   "outputs": [],
   "source": [
    "filename = 'finalized_model.sav'\n",
    "# load the model from disk\n",
    "loaded_model = pickle.load(open(filename, 'rb'))\n",
    "result = loaded_model.predict(X)"
   ]
  },
  {
   "cell_type": "code",
   "execution_count": 96,
   "metadata": {},
   "outputs": [
    {
     "data": {
      "text/plain": [
       "0"
      ]
     },
     "execution_count": 96,
     "metadata": {},
     "output_type": "execute_result"
    }
   ],
   "source": [
    "result[0]"
   ]
  },
  {
   "cell_type": "code",
   "execution_count": 97,
   "metadata": {},
   "outputs": [
    {
     "name": "stdout",
     "output_type": "stream",
     "text": [
      "---------------------------------------------------------\n",
      "NOT a CLICKBAIT\n",
      "---------------------------------------------------------\n"
     ]
    }
   ],
   "source": [
    "print(\"---------------------------------------------------------\")\n",
    "if result[0] == 1:\n",
    "    print(\"CLICKBAIT\")\n",
    "else:\n",
    "    print(\"NOT a CLICKBAIT\")\n",
    "print(\"---------------------------------------------------------\")"
   ]
  },
  {
   "cell_type": "code",
   "execution_count": null,
   "metadata": {},
   "outputs": [],
   "source": []
  }
 ],
 "metadata": {
  "kernelspec": {
   "display_name": "Python 3",
   "language": "python",
   "name": "python3"
  },
  "language_info": {
   "codemirror_mode": {
    "name": "ipython",
    "version": 3
   },
   "file_extension": ".py",
   "mimetype": "text/x-python",
   "name": "python",
   "nbconvert_exporter": "python",
   "pygments_lexer": "ipython3",
   "version": "3.6.8"
  }
 },
 "nbformat": 4,
 "nbformat_minor": 2
}
