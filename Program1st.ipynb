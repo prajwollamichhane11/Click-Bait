{
 "cells": [
  {
   "cell_type": "code",
   "execution_count": 1,
   "metadata": {},
   "outputs": [
    {
     "name": "stderr",
     "output_type": "stream",
     "text": [
      "/home/prajwol/anaconda3/lib/python3.7/importlib/_bootstrap.py:219: RuntimeWarning: numpy.ufunc size changed, may indicate binary incompatibility. Expected 192 from C header, got 216 from PyObject\n",
      "  return f(*args, **kwds)\n"
     ]
    }
   ],
   "source": [
    "import pandas as pd\n",
    "import matplotlib.pyplot as plt\n",
    "%matplotlib inline"
   ]
  },
  {
   "cell_type": "code",
   "execution_count": 2,
   "metadata": {},
   "outputs": [
    {
     "data": {
      "text/html": [
       "<div>\n",
       "<style scoped>\n",
       "    .dataframe tbody tr th:only-of-type {\n",
       "        vertical-align: middle;\n",
       "    }\n",
       "\n",
       "    .dataframe tbody tr th {\n",
       "        vertical-align: top;\n",
       "    }\n",
       "\n",
       "    .dataframe thead th {\n",
       "        text-align: right;\n",
       "    }\n",
       "</style>\n",
       "<table border=\"1\" class=\"dataframe\">\n",
       "  <thead>\n",
       "    <tr style=\"text-align: right;\">\n",
       "      <th></th>\n",
       "      <th>author</th>\n",
       "      <th>description</th>\n",
       "      <th>label</th>\n",
       "      <th>publishedAt</th>\n",
       "      <th>title</th>\n",
       "    </tr>\n",
       "  </thead>\n",
       "  <tbody>\n",
       "    <tr>\n",
       "      <th>0</th>\n",
       "      <td>Julia Reinstein</td>\n",
       "      <td>Trust no man, trust no brand. (This post will ...</td>\n",
       "      <td>1</td>\n",
       "      <td>NaN</td>\n",
       "      <td>The Definitive Guide To The Best April Fools’ ...</td>\n",
       "    </tr>\n",
       "    <tr>\n",
       "      <th>1</th>\n",
       "      <td>Natalya Lobanova</td>\n",
       "      <td>Not that anyone should need convincing of thei...</td>\n",
       "      <td>1</td>\n",
       "      <td>NaN</td>\n",
       "      <td>Literally Just 19 Pictures That Prove Hedgehog...</td>\n",
       "    </tr>\n",
       "    <tr>\n",
       "      <th>2</th>\n",
       "      <td>Kat Angus, Jane Lytvynenko</td>\n",
       "      <td>You can only have one, eh?</td>\n",
       "      <td>1</td>\n",
       "      <td>NaN</td>\n",
       "      <td>\"Would You Rather\": Canadian Food Vs. Canadian...</td>\n",
       "    </tr>\n",
       "    <tr>\n",
       "      <th>3</th>\n",
       "      <td>Ben Coleman</td>\n",
       "      <td>\"It's gonna rip my eyebrow off!\"</td>\n",
       "      <td>1</td>\n",
       "      <td>NaN</td>\n",
       "      <td>Guys Try The \"Most Painful\" Face Mask</td>\n",
       "    </tr>\n",
       "    <tr>\n",
       "      <th>4</th>\n",
       "      <td>Ellie Bate</td>\n",
       "      <td>No, your hair colour won't make a difference.</td>\n",
       "      <td>1</td>\n",
       "      <td>NaN</td>\n",
       "      <td>Which \"Riverdale\" Family Do You Belong In?</td>\n",
       "    </tr>\n",
       "  </tbody>\n",
       "</table>\n",
       "</div>"
      ],
      "text/plain": [
       "                       author  \\\n",
       "0             Julia Reinstein   \n",
       "1            Natalya Lobanova   \n",
       "2  Kat Angus, Jane Lytvynenko   \n",
       "3                 Ben Coleman   \n",
       "4                  Ellie Bate   \n",
       "\n",
       "                                         description  label publishedAt  \\\n",
       "0  Trust no man, trust no brand. (This post will ...      1         NaN   \n",
       "1  Not that anyone should need convincing of thei...      1         NaN   \n",
       "2                         You can only have one, eh?      1         NaN   \n",
       "3                   \"It's gonna rip my eyebrow off!\"      1         NaN   \n",
       "4      No, your hair colour won't make a difference.      1         NaN   \n",
       "\n",
       "                                               title  \n",
       "0  The Definitive Guide To The Best April Fools’ ...  \n",
       "1  Literally Just 19 Pictures That Prove Hedgehog...  \n",
       "2  \"Would You Rather\": Canadian Food Vs. Canadian...  \n",
       "3              Guys Try The \"Most Painful\" Face Mask  \n",
       "4         Which \"Riverdale\" Family Do You Belong In?  "
      ]
     },
     "execution_count": 2,
     "metadata": {},
     "output_type": "execute_result"
    }
   ],
   "source": [
    "df = pd.read_csv(\"training_data.csv\")\n",
    "df.head()"
   ]
  },
  {
   "cell_type": "markdown",
   "metadata": {},
   "source": [
    "### 0 = Not ClickBait 1 = ClickBait"
   ]
  },
  {
   "cell_type": "code",
   "execution_count": 24,
   "metadata": {},
   "outputs": [
    {
     "data": {
      "text/plain": [
       "0    NaN\n",
       "1    NaN\n",
       "2    NaN\n",
       "3    NaN\n",
       "4    NaN\n",
       "Name: publishedAt, dtype: object"
      ]
     },
     "execution_count": 24,
     "metadata": {},
     "output_type": "execute_result"
    }
   ],
   "source": [
    "df.publishedAt.head()"
   ]
  },
  {
   "cell_type": "code",
   "execution_count": 25,
   "metadata": {},
   "outputs": [
    {
     "data": {
      "text/plain": [
       "0    808\n",
       "1    557\n",
       "Name: label, dtype: int64"
      ]
     },
     "execution_count": 25,
     "metadata": {},
     "output_type": "execute_result"
    }
   ],
   "source": [
    "df[\"label\"].value_counts()"
   ]
  },
  {
   "cell_type": "code",
   "execution_count": 28,
   "metadata": {},
   "outputs": [
    {
     "data": {
      "text/plain": [
       "False    907\n",
       "True     458\n",
       "Name: author, dtype: int64"
      ]
     },
     "execution_count": 28,
     "metadata": {},
     "output_type": "execute_result"
    }
   ],
   "source": [
    "df[\"author\"].isnull().value_counts()"
   ]
  },
  {
   "cell_type": "code",
   "execution_count": 32,
   "metadata": {},
   "outputs": [
    {
     "data": {
      "text/plain": [
       "85.32307692307693"
      ]
     },
     "execution_count": 32,
     "metadata": {},
     "output_type": "execute_result"
    }
   ],
   "source": [
    "df[\"description\"].apply(len).mean()"
   ]
  },
  {
   "cell_type": "code",
   "execution_count": 33,
   "metadata": {},
   "outputs": [
    {
     "data": {
      "text/plain": [
       "label\n",
       "0    111.623762\n",
       "1     47.170557\n",
       "Name: description, dtype: float64"
      ]
     },
     "execution_count": 33,
     "metadata": {},
     "output_type": "execute_result"
    }
   ],
   "source": [
    "df[\"description\"].apply(len).groupby(df[\"label\"]).mean()"
   ]
  },
  {
   "cell_type": "markdown",
   "metadata": {},
   "source": [
    "###dlasjdlajsdljsa"
   ]
  },
  {
   "cell_type": "code",
   "execution_count": 34,
   "metadata": {},
   "outputs": [],
   "source": [
    "df[\"Whole\"] = df.description + \" \" + df.title"
   ]
  },
  {
   "cell_type": "code",
   "execution_count": 35,
   "metadata": {},
   "outputs": [
    {
     "data": {
      "text/plain": [
       "0       Trust no man, trust no brand. (This post will ...\n",
       "1       Not that anyone should need convincing of thei...\n",
       "2       You can only have one, eh? \"Would You Rather\":...\n",
       "3       \"It's gonna rip my eyebrow off!\" Guys Try The ...\n",
       "4       No, your hair colour won't make a difference. ...\n",
       "5       These painters get it. 27 Times Art History To...\n",
       "6       This week: Herb infusers, hands-free umbrellas...\n",
       "7       Step back in time. Relive The '00s And We'll G...\n",
       "8       \"I have a return, but I don't have the tags or...\n",
       "9       On the Trans Day of Visibility, we need to tal...\n",
       "10      See new places. 7 Instagram Accounts That Will...\n",
       "11      Can you score a perfect 10? Can You Guess Whic...\n",
       "12      \"Holy cow!\" This Little Cow Is Best Friends Wi...\n",
       "13      \"I look like a tiger.\" 19 Terrible, Horrible T...\n",
       "14      \"Hi, nice to meet you, I'm...\" Only People Goo...\n",
       "15      Do you see the animal ghost hovering over this...\n",
       "16      Here’s what our editors and writers are making...\n",
       "17      ~Dress to impress~ Pick An Outfit To Reveal Yo...\n",
       "18      Some of our recent favorites we’ve reviewed in...\n",
       "19      All those many hours spent on YouTube will fin...\n",
       "20      Which of Mother Nature's gifts means the most ...\n",
       "21      Mental note: There's more than one Sydney in t...\n",
       "22      That one you see on the bus every so often and...\n",
       "23      Add head to test... XX Ways To Dress Up Your C...\n",
       "24      Chosen by BuzzFeed readers like YOU. The 17 Be...\n",
       "25      In living color. 18 Drastic Hair Color Transfo...\n",
       "26      Dem babies. Beyoncé Posted A New Photo Shoot S...\n",
       "27      H/T <a href=\"https://go.redirectingat.com?id=7...\n",
       "28      Are you the type of person you think you are? ...\n",
       "29      Relationship milestones: They friended your mu...\n",
       "                              ...                        \n",
       "1335    Bloodbath in the Dales? Shock double murder st...\n",
       "1336    It’s not the World Cup, but it’s a start. Bast...\n",
       "1337    'This may be the first time they have ever see...\n",
       "1338    Learn from the GOATs. Get schooled online by c...\n",
       "1339    Are guys ok? The New York Post's push alerts j...\n",
       "1340    Please...talk to us. Things we wish our pets c...\n",
       "1341    Hilarious! Even Russia's got jokes on April Fo...\n",
       "1342    The ultimate prank is our reality!!! 12 tweets...\n",
       "1343    Once-itinerant farmers build a sense of place ...\n",
       "1344    Because they have to learn sometime. April Foo...\n",
       "1345    Coming to a port near you. The first zero emis...\n",
       "1346    Sorry, giraffe. Livestream of a pregnant cat i...\n",
       "1347    Leave our childhoods ALONE. Hey Crayola, quit ...\n",
       "1348    Very accurate and kind of scary. I made an exa...\n",
       "1349    Our hearts go out to the city of Mocoa. Aerial...\n",
       "1350    Henryk Ross risked his life to document Nazi a...\n",
       "1351    An upcoming film exposes the gender gap in yet...\n",
       "1352    \"The Joy of Painting...and Parenthood\" Couple ...\n",
       "1353    Treat yoself to these weird predictions. All t...\n",
       "1354    It's too soon for this, teens. 11 times teens ...\n",
       "1355    A new Mummy for a more frightening world. 'The...\n",
       "1356    Watch for the skyscraper-sized war elephant. G...\n",
       "1357    Rematch! Rematch! Rematch! Justin Trudeau chal...\n",
       "1358    Wandering the streets of the 'Black Belt.' Str...\n",
       "1359    It is like I am there at the show with you, ye...\n",
       "1360    In other news: 'Ghost in the Shell' bombed. 'B...\n",
       "1361    \"It’s going to affect you eventually.\" Tina Fe...\n",
       "1362    Vin Diesel never looked so good. Vin Diesel la...\n",
       "1363    The desert metropolis is a hotbed of skyscrape...\n",
       "1364    \"You just need to know how to smize...\" Thank ...\n",
       "Name: Whole, Length: 1365, dtype: object"
      ]
     },
     "execution_count": 35,
     "metadata": {},
     "output_type": "execute_result"
    }
   ],
   "source": [
    "df.Whole"
   ]
  },
  {
   "cell_type": "code",
   "execution_count": null,
   "metadata": {},
   "outputs": [],
   "source": []
  }
 ],
 "metadata": {
  "kernelspec": {
   "display_name": "Python 3",
   "language": "python",
   "name": "python3"
  },
  "language_info": {
   "codemirror_mode": {
    "name": "ipython",
    "version": 3
   },
   "file_extension": ".py",
   "mimetype": "text/x-python",
   "name": "python",
   "nbconvert_exporter": "python",
   "pygments_lexer": "ipython3",
   "version": "3.7.3"
  }
 },
 "nbformat": 4,
 "nbformat_minor": 2
}
