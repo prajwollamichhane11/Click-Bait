{
 "cells": [
  {
   "cell_type": "code",
   "execution_count": 1,
   "metadata": {},
   "outputs": [
    {
     "name": "stderr",
     "output_type": "stream",
     "text": [
      "/home/prajwol/anaconda3/lib/python3.7/importlib/_bootstrap.py:219: RuntimeWarning: numpy.ufunc size changed, may indicate binary incompatibility. Expected 192 from C header, got 216 from PyObject\n",
      "  return f(*args, **kwds)\n"
     ]
    }
   ],
   "source": [
    "import pandas as pd\n",
    "import matplotlib.pyplot as plt\n",
    "%matplotlib inline"
   ]
  },
  {
   "cell_type": "code",
   "execution_count": 2,
   "metadata": {},
   "outputs": [
    {
     "data": {
      "text/html": [
       "<div>\n",
       "<style scoped>\n",
       "    .dataframe tbody tr th:only-of-type {\n",
       "        vertical-align: middle;\n",
       "    }\n",
       "\n",
       "    .dataframe tbody tr th {\n",
       "        vertical-align: top;\n",
       "    }\n",
       "\n",
       "    .dataframe thead th {\n",
       "        text-align: right;\n",
       "    }\n",
       "</style>\n",
       "<table border=\"1\" class=\"dataframe\">\n",
       "  <thead>\n",
       "    <tr style=\"text-align: right;\">\n",
       "      <th></th>\n",
       "      <th>author</th>\n",
       "      <th>description</th>\n",
       "      <th>label</th>\n",
       "      <th>publishedAt</th>\n",
       "      <th>title</th>\n",
       "    </tr>\n",
       "  </thead>\n",
       "  <tbody>\n",
       "    <tr>\n",
       "      <th>0</th>\n",
       "      <td>Julia Reinstein</td>\n",
       "      <td>Trust no man, trust no brand. (This post will ...</td>\n",
       "      <td>1</td>\n",
       "      <td>NaN</td>\n",
       "      <td>The Definitive Guide To The Best April Fools’ ...</td>\n",
       "    </tr>\n",
       "    <tr>\n",
       "      <th>1</th>\n",
       "      <td>Natalya Lobanova</td>\n",
       "      <td>Not that anyone should need convincing of thei...</td>\n",
       "      <td>1</td>\n",
       "      <td>NaN</td>\n",
       "      <td>Literally Just 19 Pictures That Prove Hedgehog...</td>\n",
       "    </tr>\n",
       "    <tr>\n",
       "      <th>2</th>\n",
       "      <td>Kat Angus, Jane Lytvynenko</td>\n",
       "      <td>You can only have one, eh?</td>\n",
       "      <td>1</td>\n",
       "      <td>NaN</td>\n",
       "      <td>\"Would You Rather\": Canadian Food Vs. Canadian...</td>\n",
       "    </tr>\n",
       "    <tr>\n",
       "      <th>3</th>\n",
       "      <td>Ben Coleman</td>\n",
       "      <td>\"It's gonna rip my eyebrow off!\"</td>\n",
       "      <td>1</td>\n",
       "      <td>NaN</td>\n",
       "      <td>Guys Try The \"Most Painful\" Face Mask</td>\n",
       "    </tr>\n",
       "    <tr>\n",
       "      <th>4</th>\n",
       "      <td>Ellie Bate</td>\n",
       "      <td>No, your hair colour won't make a difference.</td>\n",
       "      <td>1</td>\n",
       "      <td>NaN</td>\n",
       "      <td>Which \"Riverdale\" Family Do You Belong In?</td>\n",
       "    </tr>\n",
       "  </tbody>\n",
       "</table>\n",
       "</div>"
      ],
      "text/plain": [
       "                       author  \\\n",
       "0             Julia Reinstein   \n",
       "1            Natalya Lobanova   \n",
       "2  Kat Angus, Jane Lytvynenko   \n",
       "3                 Ben Coleman   \n",
       "4                  Ellie Bate   \n",
       "\n",
       "                                         description  label publishedAt  \\\n",
       "0  Trust no man, trust no brand. (This post will ...      1         NaN   \n",
       "1  Not that anyone should need convincing of thei...      1         NaN   \n",
       "2                         You can only have one, eh?      1         NaN   \n",
       "3                   \"It's gonna rip my eyebrow off!\"      1         NaN   \n",
       "4      No, your hair colour won't make a difference.      1         NaN   \n",
       "\n",
       "                                               title  \n",
       "0  The Definitive Guide To The Best April Fools’ ...  \n",
       "1  Literally Just 19 Pictures That Prove Hedgehog...  \n",
       "2  \"Would You Rather\": Canadian Food Vs. Canadian...  \n",
       "3              Guys Try The \"Most Painful\" Face Mask  \n",
       "4         Which \"Riverdale\" Family Do You Belong In?  "
      ]
     },
     "execution_count": 2,
     "metadata": {},
     "output_type": "execute_result"
    }
   ],
   "source": [
    "df = pd.read_csv(\"training_data.csv\")\n",
    "df.head()"
   ]
  },
  {
   "cell_type": "markdown",
   "metadata": {},
   "source": [
    "### 0 = Not ClickBait 1 = ClickBait"
   ]
  },
  {
   "cell_type": "code",
   "execution_count": 24,
   "metadata": {},
   "outputs": [
    {
     "data": {
      "text/plain": [
       "0    NaN\n",
       "1    NaN\n",
       "2    NaN\n",
       "3    NaN\n",
       "4    NaN\n",
       "Name: publishedAt, dtype: object"
      ]
     },
     "execution_count": 24,
     "metadata": {},
     "output_type": "execute_result"
    }
   ],
   "source": [
    "df.publishedAt.head()"
   ]
  },
  {
   "cell_type": "code",
   "execution_count": 25,
   "metadata": {},
   "outputs": [
    {
     "data": {
      "text/plain": [
       "0    808\n",
       "1    557\n",
       "Name: label, dtype: int64"
      ]
     },
     "execution_count": 25,
     "metadata": {},
     "output_type": "execute_result"
    }
   ],
   "source": [
    "df[\"label\"].value_counts()"
   ]
  },
  {
   "cell_type": "code",
   "execution_count": 28,
   "metadata": {},
   "outputs": [
    {
     "data": {
      "text/plain": [
       "False    907\n",
       "True     458\n",
       "Name: author, dtype: int64"
      ]
     },
     "execution_count": 28,
     "metadata": {},
     "output_type": "execute_result"
    }
   ],
   "source": [
    "df[\"author\"].isnull().value_counts()"
   ]
  },
  {
   "cell_type": "code",
   "execution_count": 32,
   "metadata": {},
   "outputs": [
    {
     "data": {
      "text/plain": [
       "85.32307692307693"
      ]
     },
     "execution_count": 32,
     "metadata": {},
     "output_type": "execute_result"
    }
   ],
   "source": [
    "df[\"description\"].apply(len).mean()"
   ]
  },
  {
   "cell_type": "code",
   "execution_count": 33,
   "metadata": {},
   "outputs": [
    {
     "data": {
      "text/plain": [
       "label\n",
       "0    111.623762\n",
       "1     47.170557\n",
       "Name: description, dtype: float64"
      ]
     },
     "execution_count": 33,
     "metadata": {},
     "output_type": "execute_result"
    }
   ],
   "source": [
    "df[\"description\"].apply(len).groupby(df[\"label\"]).mean()"
   ]
  },
  {
   "cell_type": "markdown",
   "metadata": {},
   "source": [
    "###dlasjdlajsdljsa"
   ]
  },
  {
   "cell_type": "code",
   "execution_count": 34,
   "metadata": {},
   "outputs": [],
   "source": [
    "df[\"Whole\"] = df.description + \" \" + df.title"
   ]
  },
  {
   "cell_type": "code",
   "execution_count": 38,
   "metadata": {},
   "outputs": [
    {
     "data": {
      "text/plain": [
       "'Trust no man, trust no brand. (This post will be updated throughout the day.) The Definitive Guide To The Best April Fools’ Day Pranks On The Internet In 2017'"
      ]
     },
     "execution_count": 38,
     "metadata": {},
     "output_type": "execute_result"
    }
   ],
   "source": [
    "df[\"Whole\"][0]\n"
   ]
  },
  {
   "cell_type": "code",
   "execution_count": 41,
   "metadata": {},
   "outputs": [
    {
     "data": {
      "text/html": [
       "<div>\n",
       "<style scoped>\n",
       "    .dataframe tbody tr th:only-of-type {\n",
       "        vertical-align: middle;\n",
       "    }\n",
       "\n",
       "    .dataframe tbody tr th {\n",
       "        vertical-align: top;\n",
       "    }\n",
       "\n",
       "    .dataframe thead th {\n",
       "        text-align: right;\n",
       "    }\n",
       "</style>\n",
       "<table border=\"1\" class=\"dataframe\">\n",
       "  <thead>\n",
       "    <tr style=\"text-align: right;\">\n",
       "      <th></th>\n",
       "      <th>author</th>\n",
       "      <th>description</th>\n",
       "      <th>label</th>\n",
       "      <th>publishedAt</th>\n",
       "      <th>title</th>\n",
       "      <th>Whole</th>\n",
       "    </tr>\n",
       "  </thead>\n",
       "  <tbody>\n",
       "    <tr>\n",
       "      <th>0</th>\n",
       "      <td>Julia Reinstein</td>\n",
       "      <td>Trust no man, trust no brand. (This post will ...</td>\n",
       "      <td>1</td>\n",
       "      <td>NaN</td>\n",
       "      <td>The Definitive Guide To The Best April Fools’ ...</td>\n",
       "      <td>Trust no man, trust no brand. (This post will ...</td>\n",
       "    </tr>\n",
       "    <tr>\n",
       "      <th>1</th>\n",
       "      <td>Natalya Lobanova</td>\n",
       "      <td>Not that anyone should need convincing of thei...</td>\n",
       "      <td>1</td>\n",
       "      <td>NaN</td>\n",
       "      <td>Literally Just 19 Pictures That Prove Hedgehog...</td>\n",
       "      <td>Not that anyone should need convincing of thei...</td>\n",
       "    </tr>\n",
       "    <tr>\n",
       "      <th>2</th>\n",
       "      <td>Kat Angus, Jane Lytvynenko</td>\n",
       "      <td>You can only have one, eh?</td>\n",
       "      <td>1</td>\n",
       "      <td>NaN</td>\n",
       "      <td>\"Would You Rather\": Canadian Food Vs. Canadian...</td>\n",
       "      <td>You can only have one, eh? \"Would You Rather\":...</td>\n",
       "    </tr>\n",
       "    <tr>\n",
       "      <th>3</th>\n",
       "      <td>Ben Coleman</td>\n",
       "      <td>\"It's gonna rip my eyebrow off!\"</td>\n",
       "      <td>1</td>\n",
       "      <td>NaN</td>\n",
       "      <td>Guys Try The \"Most Painful\" Face Mask</td>\n",
       "      <td>\"It's gonna rip my eyebrow off!\" Guys Try The ...</td>\n",
       "    </tr>\n",
       "    <tr>\n",
       "      <th>4</th>\n",
       "      <td>Ellie Bate</td>\n",
       "      <td>No, your hair colour won't make a difference.</td>\n",
       "      <td>1</td>\n",
       "      <td>NaN</td>\n",
       "      <td>Which \"Riverdale\" Family Do You Belong In?</td>\n",
       "      <td>No, your hair colour won't make a difference. ...</td>\n",
       "    </tr>\n",
       "  </tbody>\n",
       "</table>\n",
       "</div>"
      ],
      "text/plain": [
       "                       author  \\\n",
       "0             Julia Reinstein   \n",
       "1            Natalya Lobanova   \n",
       "2  Kat Angus, Jane Lytvynenko   \n",
       "3                 Ben Coleman   \n",
       "4                  Ellie Bate   \n",
       "\n",
       "                                         description  label publishedAt  \\\n",
       "0  Trust no man, trust no brand. (This post will ...      1         NaN   \n",
       "1  Not that anyone should need convincing of thei...      1         NaN   \n",
       "2                         You can only have one, eh?      1         NaN   \n",
       "3                   \"It's gonna rip my eyebrow off!\"      1         NaN   \n",
       "4      No, your hair colour won't make a difference.      1         NaN   \n",
       "\n",
       "                                               title  \\\n",
       "0  The Definitive Guide To The Best April Fools’ ...   \n",
       "1  Literally Just 19 Pictures That Prove Hedgehog...   \n",
       "2  \"Would You Rather\": Canadian Food Vs. Canadian...   \n",
       "3              Guys Try The \"Most Painful\" Face Mask   \n",
       "4         Which \"Riverdale\" Family Do You Belong In?   \n",
       "\n",
       "                                               Whole  \n",
       "0  Trust no man, trust no brand. (This post will ...  \n",
       "1  Not that anyone should need convincing of thei...  \n",
       "2  You can only have one, eh? \"Would You Rather\":...  \n",
       "3  \"It's gonna rip my eyebrow off!\" Guys Try The ...  \n",
       "4  No, your hair colour won't make a difference. ...  "
      ]
     },
     "execution_count": 41,
     "metadata": {},
     "output_type": "execute_result"
    }
   ],
   "source": [
    "df.head()"
   ]
  },
  {
   "cell_type": "code",
   "execution_count": 44,
   "metadata": {},
   "outputs": [
    {
     "data": {
      "text/plain": [
       "0    808\n",
       "1    557\n",
       "Name: label, dtype: int64"
      ]
     },
     "execution_count": 44,
     "metadata": {},
     "output_type": "execute_result"
    }
   ],
   "source": [
    "#Counting the number of click baits\n",
    "df.label.value_counts()"
   ]
  },
  {
   "cell_type": "code",
   "execution_count": 46,
   "metadata": {},
   "outputs": [
    {
     "data": {
      "text/plain": [
       "<matplotlib.axes._subplots.AxesSubplot at 0x7f99948ec908>"
      ]
     },
     "execution_count": 46,
     "metadata": {},
     "output_type": "execute_result"
    },
    {
     "data": {
      "image/png": "[encoded data removed]",
      "text/plain": [
       "<Figure size 432x288 with 1 Axes>"
      ]
     },
     "metadata": {
      "needs_background": "light"
     },
     "output_type": "display_data"
    }
   ],
   "source": [
    "df[\"author\"].isnull().value_counts().plot(\"bar\")"
   ]
  },
  {
   "cell_type": "code",
   "execution_count": 56,
   "metadata": {},
   "outputs": [
    {
     "data": {
      "text/plain": [
       "label\n",
       "0    111.623762\n",
       "1     47.170557\n",
       "Name: description, dtype: float64"
      ]
     },
     "execution_count": 56,
     "metadata": {},
     "output_type": "execute_result"
    }
   ],
   "source": [
    "df[\"description\"].apply(len).groupby(df[\"label\"]).mean()"
   ]
  },
  {
   "cell_type": "code",
   "execution_count": 61,
   "metadata": {},
   "outputs": [
    {
     "data": {
      "text/plain": [
       "1365"
      ]
     },
     "execution_count": 61,
     "metadata": {},
     "output_type": "execute_result"
    }
   ],
   "source": [
    "#the total number of articles that are clickbait\n",
    "len(df[\"label\"] == 1)"
   ]
  },
  {
   "cell_type": "code",
   "execution_count": null,
   "metadata": {},
   "outputs": [],
   "source": []
  }
 ],
 "metadata": {
  "kernelspec": {
   "display_name": "Python 3",
   "language": "python",
   "name": "python3"
  },
  "language_info": {
   "codemirror_mode": {
    "name": "ipython",
    "version": 3
   },
   "file_extension": ".py",
   "mimetype": "text/x-python",
   "name": "python",
   "nbconvert_exporter": "python",
   "pygments_lexer": "ipython3",
   "version": "3.7.3"
  }
 },
 "nbformat": 4,
 "nbformat_minor": 2
}
