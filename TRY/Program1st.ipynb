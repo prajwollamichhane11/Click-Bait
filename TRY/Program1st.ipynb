{
 "cells": [
  {
   "cell_type": "code",
   "execution_count": 1,
   "metadata": {},
   "outputs": [],
   "source": [
    "import pandas as pd\n",
    "import matplotlib.pyplot as plt\n",
    "%matplotlib inline"
   ]
  },
  {
   "cell_type": "code",
   "execution_count": 2,
   "metadata": {},
   "outputs": [
    {
     "data": {
      "text/html": [
       "<div>\n",
       "<style scoped>\n",
       "    .dataframe tbody tr th:only-of-type {\n",
       "        vertical-align: middle;\n",
       "    }\n",
       "\n",
       "    .dataframe tbody tr th {\n",
       "        vertical-align: top;\n",
       "    }\n",
       "\n",
       "    .dataframe thead th {\n",
       "        text-align: right;\n",
       "    }\n",
       "</style>\n",
       "<table border=\"1\" class=\"dataframe\">\n",
       "  <thead>\n",
       "    <tr style=\"text-align: right;\">\n",
       "      <th></th>\n",
       "      <th>author</th>\n",
       "      <th>description</th>\n",
       "      <th>label</th>\n",
       "      <th>publishedAt</th>\n",
       "      <th>title</th>\n",
       "    </tr>\n",
       "  </thead>\n",
       "  <tbody>\n",
       "    <tr>\n",
       "      <th>0</th>\n",
       "      <td>Julia Reinstein</td>\n",
       "      <td>Trust no man, trust no brand. (This post will ...</td>\n",
       "      <td>1</td>\n",
       "      <td>NaN</td>\n",
       "      <td>The Definitive Guide To The Best April Fools’ ...</td>\n",
       "    </tr>\n",
       "    <tr>\n",
       "      <th>1</th>\n",
       "      <td>Natalya Lobanova</td>\n",
       "      <td>Not that anyone should need convincing of thei...</td>\n",
       "      <td>1</td>\n",
       "      <td>NaN</td>\n",
       "      <td>Literally Just 19 Pictures That Prove Hedgehog...</td>\n",
       "    </tr>\n",
       "    <tr>\n",
       "      <th>2</th>\n",
       "      <td>Kat Angus, Jane Lytvynenko</td>\n",
       "      <td>You can only have one, eh?</td>\n",
       "      <td>1</td>\n",
       "      <td>NaN</td>\n",
       "      <td>\"Would You Rather\": Canadian Food Vs. Canadian...</td>\n",
       "    </tr>\n",
       "    <tr>\n",
       "      <th>3</th>\n",
       "      <td>Ben Coleman</td>\n",
       "      <td>\"It's gonna rip my eyebrow off!\"</td>\n",
       "      <td>1</td>\n",
       "      <td>NaN</td>\n",
       "      <td>Guys Try The \"Most Painful\" Face Mask</td>\n",
       "    </tr>\n",
       "    <tr>\n",
       "      <th>4</th>\n",
       "      <td>Ellie Bate</td>\n",
       "      <td>No, your hair colour won't make a difference.</td>\n",
       "      <td>1</td>\n",
       "      <td>NaN</td>\n",
       "      <td>Which \"Riverdale\" Family Do You Belong In?</td>\n",
       "    </tr>\n",
       "  </tbody>\n",
       "</table>\n",
       "</div>"
      ],
      "text/plain": [
       "                       author  \\\n",
       "0             Julia Reinstein   \n",
       "1            Natalya Lobanova   \n",
       "2  Kat Angus, Jane Lytvynenko   \n",
       "3                 Ben Coleman   \n",
       "4                  Ellie Bate   \n",
       "\n",
       "                                         description  label publishedAt  \\\n",
       "0  Trust no man, trust no brand. (This post will ...      1         NaN   \n",
       "1  Not that anyone should need convincing of thei...      1         NaN   \n",
       "2                         You can only have one, eh?      1         NaN   \n",
       "3                   \"It's gonna rip my eyebrow off!\"      1         NaN   \n",
       "4      No, your hair colour won't make a difference.      1         NaN   \n",
       "\n",
       "                                               title  \n",
       "0  The Definitive Guide To The Best April Fools’ ...  \n",
       "1  Literally Just 19 Pictures That Prove Hedgehog...  \n",
       "2  \"Would You Rather\": Canadian Food Vs. Canadian...  \n",
       "3              Guys Try The \"Most Painful\" Face Mask  \n",
       "4         Which \"Riverdale\" Family Do You Belong In?  "
      ]
     },
     "execution_count": 2,
     "metadata": {},
     "output_type": "execute_result"
    }
   ],
   "source": [
    "df = pd.read_csv(\"training_data.csv\")\n",
    "df.head()"
   ]
  },
  {
   "cell_type": "markdown",
   "metadata": {},
   "source": [
    "### 0 = Not ClickBait 1 = ClickBait"
   ]
  },
  {
   "cell_type": "code",
   "execution_count": 3,
   "metadata": {},
   "outputs": [
    {
     "data": {
      "text/plain": [
       "0    NaN\n",
       "1    NaN\n",
       "2    NaN\n",
       "3    NaN\n",
       "4    NaN\n",
       "Name: publishedAt, dtype: object"
      ]
     },
     "execution_count": 3,
     "metadata": {},
     "output_type": "execute_result"
    }
   ],
   "source": [
    "df.publishedAt.head()"
   ]
  },
  {
   "cell_type": "code",
   "execution_count": 4,
   "metadata": {},
   "outputs": [
    {
     "data": {
      "text/plain": [
       "0    808\n",
       "1    557\n",
       "Name: label, dtype: int64"
      ]
     },
     "execution_count": 4,
     "metadata": {},
     "output_type": "execute_result"
    }
   ],
   "source": [
    "df[\"label\"].value_counts()"
   ]
  },
  {
   "cell_type": "code",
   "execution_count": 5,
   "metadata": {},
   "outputs": [
    {
     "data": {
      "text/plain": [
       "False    907\n",
       "True     458\n",
       "Name: author, dtype: int64"
      ]
     },
     "execution_count": 5,
     "metadata": {},
     "output_type": "execute_result"
    }
   ],
   "source": [
    "df[\"author\"].isnull().value_counts()"
   ]
  },
  {
   "cell_type": "code",
   "execution_count": 6,
   "metadata": {},
   "outputs": [
    {
     "data": {
      "text/plain": [
       "85.32307692307693"
      ]
     },
     "execution_count": 6,
     "metadata": {},
     "output_type": "execute_result"
    }
   ],
   "source": [
    "df[\"description\"].apply(len).mean()"
   ]
  },
  {
   "cell_type": "code",
   "execution_count": 7,
   "metadata": {},
   "outputs": [
    {
     "data": {
      "text/plain": [
       "label\n",
       "0    111.623762\n",
       "1     47.170557\n",
       "Name: description, dtype: float64"
      ]
     },
     "execution_count": 7,
     "metadata": {},
     "output_type": "execute_result"
    }
   ],
   "source": [
    "df[\"description\"].apply(len).groupby(df[\"label\"]).mean()"
   ]
  },
  {
   "cell_type": "markdown",
   "metadata": {},
   "source": [
    "###dlasjdlajsdljsa"
   ]
  },
  {
   "cell_type": "code",
   "execution_count": 8,
   "metadata": {},
   "outputs": [],
   "source": [
    "df[\"Whole\"] = df.description + \" \" + df.title"
   ]
  },
  {
   "cell_type": "code",
   "execution_count": 9,
   "metadata": {},
   "outputs": [
    {
     "data": {
      "text/plain": [
       "'Trust no man, trust no brand. (This post will be updated throughout the day.) The Definitive Guide To The Best April Fools’ Day Pranks On The Internet In 2017'"
      ]
     },
     "execution_count": 9,
     "metadata": {},
     "output_type": "execute_result"
    }
   ],
   "source": [
    "df[\"Whole\"][0]\n"
   ]
  },
  {
   "cell_type": "code",
   "execution_count": 10,
   "metadata": {},
   "outputs": [
    {
     "data": {
      "text/html": [
       "<div>\n",
       "<style scoped>\n",
       "    .dataframe tbody tr th:only-of-type {\n",
       "        vertical-align: middle;\n",
       "    }\n",
       "\n",
       "    .dataframe tbody tr th {\n",
       "        vertical-align: top;\n",
       "    }\n",
       "\n",
       "    .dataframe thead th {\n",
       "        text-align: right;\n",
       "    }\n",
       "</style>\n",
       "<table border=\"1\" class=\"dataframe\">\n",
       "  <thead>\n",
       "    <tr style=\"text-align: right;\">\n",
       "      <th></th>\n",
       "      <th>author</th>\n",
       "      <th>description</th>\n",
       "      <th>label</th>\n",
       "      <th>publishedAt</th>\n",
       "      <th>title</th>\n",
       "      <th>Whole</th>\n",
       "    </tr>\n",
       "  </thead>\n",
       "  <tbody>\n",
       "    <tr>\n",
       "      <th>0</th>\n",
       "      <td>Julia Reinstein</td>\n",
       "      <td>Trust no man, trust no brand. (This post will ...</td>\n",
       "      <td>1</td>\n",
       "      <td>NaN</td>\n",
       "      <td>The Definitive Guide To The Best April Fools’ ...</td>\n",
       "      <td>Trust no man, trust no brand. (This post will ...</td>\n",
       "    </tr>\n",
       "    <tr>\n",
       "      <th>1</th>\n",
       "      <td>Natalya Lobanova</td>\n",
       "      <td>Not that anyone should need convincing of thei...</td>\n",
       "      <td>1</td>\n",
       "      <td>NaN</td>\n",
       "      <td>Literally Just 19 Pictures That Prove Hedgehog...</td>\n",
       "      <td>Not that anyone should need convincing of thei...</td>\n",
       "    </tr>\n",
       "    <tr>\n",
       "      <th>2</th>\n",
       "      <td>Kat Angus, Jane Lytvynenko</td>\n",
       "      <td>You can only have one, eh?</td>\n",
       "      <td>1</td>\n",
       "      <td>NaN</td>\n",
       "      <td>\"Would You Rather\": Canadian Food Vs. Canadian...</td>\n",
       "      <td>You can only have one, eh? \"Would You Rather\":...</td>\n",
       "    </tr>\n",
       "    <tr>\n",
       "      <th>3</th>\n",
       "      <td>Ben Coleman</td>\n",
       "      <td>\"It's gonna rip my eyebrow off!\"</td>\n",
       "      <td>1</td>\n",
       "      <td>NaN</td>\n",
       "      <td>Guys Try The \"Most Painful\" Face Mask</td>\n",
       "      <td>\"It's gonna rip my eyebrow off!\" Guys Try The ...</td>\n",
       "    </tr>\n",
       "    <tr>\n",
       "      <th>4</th>\n",
       "      <td>Ellie Bate</td>\n",
       "      <td>No, your hair colour won't make a difference.</td>\n",
       "      <td>1</td>\n",
       "      <td>NaN</td>\n",
       "      <td>Which \"Riverdale\" Family Do You Belong In?</td>\n",
       "      <td>No, your hair colour won't make a difference. ...</td>\n",
       "    </tr>\n",
       "  </tbody>\n",
       "</table>\n",
       "</div>"
      ],
      "text/plain": [
       "                       author  \\\n",
       "0             Julia Reinstein   \n",
       "1            Natalya Lobanova   \n",
       "2  Kat Angus, Jane Lytvynenko   \n",
       "3                 Ben Coleman   \n",
       "4                  Ellie Bate   \n",
       "\n",
       "                                         description  label publishedAt  \\\n",
       "0  Trust no man, trust no brand. (This post will ...      1         NaN   \n",
       "1  Not that anyone should need convincing of thei...      1         NaN   \n",
       "2                         You can only have one, eh?      1         NaN   \n",
       "3                   \"It's gonna rip my eyebrow off!\"      1         NaN   \n",
       "4      No, your hair colour won't make a difference.      1         NaN   \n",
       "\n",
       "                                               title  \\\n",
       "0  The Definitive Guide To The Best April Fools’ ...   \n",
       "1  Literally Just 19 Pictures That Prove Hedgehog...   \n",
       "2  \"Would You Rather\": Canadian Food Vs. Canadian...   \n",
       "3              Guys Try The \"Most Painful\" Face Mask   \n",
       "4         Which \"Riverdale\" Family Do You Belong In?   \n",
       "\n",
       "                                               Whole  \n",
       "0  Trust no man, trust no brand. (This post will ...  \n",
       "1  Not that anyone should need convincing of thei...  \n",
       "2  You can only have one, eh? \"Would You Rather\":...  \n",
       "3  \"It's gonna rip my eyebrow off!\" Guys Try The ...  \n",
       "4  No, your hair colour won't make a difference. ...  "
      ]
     },
     "execution_count": 10,
     "metadata": {},
     "output_type": "execute_result"
    }
   ],
   "source": [
    "df.head()"
   ]
  },
  {
   "cell_type": "code",
   "execution_count": 11,
   "metadata": {},
   "outputs": [
    {
     "data": {
      "text/plain": [
       "0    808\n",
       "1    557\n",
       "Name: label, dtype: int64"
      ]
     },
     "execution_count": 11,
     "metadata": {},
     "output_type": "execute_result"
    }
   ],
   "source": [
    "#Counting the number of click baits\n",
    "df.label.value_counts()"
   ]
  },
  {
   "cell_type": "code",
   "execution_count": 12,
   "metadata": {},
   "outputs": [
    {
     "data": {
      "text/plain": [
       "<matplotlib.axes._subplots.AxesSubplot at 0x7f8d374bea58>"
      ]
     },
     "execution_count": 12,
     "metadata": {},
     "output_type": "execute_result"
    },
    {
     "data": {
      "image/png": "[encoded data removed]",
      "text/plain": [
       "<Figure size 432x288 with 1 Axes>"
      ]
     },
     "metadata": {
      "needs_background": "light"
     },
     "output_type": "display_data"
    }
   ],
   "source": [
    "df[\"author\"].isnull().value_counts().plot(\"bar\")"
   ]
  },
  {
   "cell_type": "code",
   "execution_count": 13,
   "metadata": {},
   "outputs": [
    {
     "data": {
      "text/plain": [
       "label\n",
       "0    111.623762\n",
       "1     47.170557\n",
       "Name: description, dtype: float64"
      ]
     },
     "execution_count": 13,
     "metadata": {},
     "output_type": "execute_result"
    }
   ],
   "source": [
    "df[\"description\"].apply(len).groupby(df[\"label\"]).mean()"
   ]
  },
  {
   "cell_type": "code",
   "execution_count": 14,
   "metadata": {},
   "outputs": [
    {
     "data": {
      "text/plain": [
       "1365"
      ]
     },
     "execution_count": 14,
     "metadata": {},
     "output_type": "execute_result"
    }
   ],
   "source": [
    "#the total number of articles that are clickbait\n",
    "len(df[\"label\"] == 1)"
   ]
  },
  {
   "cell_type": "code",
   "execution_count": 15,
   "metadata": {},
   "outputs": [
    {
     "data": {
      "text/plain": [
       "85.32307692307693"
      ]
     },
     "execution_count": 15,
     "metadata": {},
     "output_type": "execute_result"
    }
   ],
   "source": [
    "df[\"description\"].apply(len).mean()"
   ]
  },
  {
   "cell_type": "markdown",
   "metadata": {},
   "source": [
    "## Counting the number of words"
   ]
  },
  {
   "cell_type": "code",
   "execution_count": 16,
   "metadata": {},
   "outputs": [],
   "source": [
    "from sklearn.feature_extraction.text import CountVectorizer"
   ]
  },
  {
   "cell_type": "code",
   "execution_count": 17,
   "metadata": {},
   "outputs": [],
   "source": [
    "cvec = CountVectorizer()"
   ]
  },
  {
   "cell_type": "code",
   "execution_count": 20,
   "metadata": {},
   "outputs": [
    {
     "data": {
      "text/plain": [
       "CountVectorizer(analyzer='word', binary=False, decode_error='strict',\n",
       "        dtype=<class 'numpy.int64'>, encoding='utf-8', input='content',\n",
       "        lowercase=True, max_df=1.0, max_features=None, min_df=1,\n",
       "        ngram_range=(1, 1), preprocessor=None, stop_words=None,\n",
       "        strip_accents=None, token_pattern='(?u)\\\\b\\\\w\\\\w+\\\\b',\n",
       "        tokenizer=None, vocabulary=None)"
      ]
     },
     "execution_count": 20,
     "metadata": {},
     "output_type": "execute_result"
    }
   ],
   "source": [
    "test1 = [\"My engilish is not good. I need to improve my english.\"]\n",
    "cvec.fit(test1)"
   ]
  },
  {
   "cell_type": "code",
   "execution_count": 21,
   "metadata": {},
   "outputs": [
    {
     "data": {
      "text/plain": [
       "{'my': 5,\n",
       " 'engilish': 0,\n",
       " 'is': 4,\n",
       " 'not': 7,\n",
       " 'good': 2,\n",
       " 'need': 6,\n",
       " 'to': 8,\n",
       " 'improve': 3,\n",
       " 'english': 1}"
      ]
     },
     "execution_count": 21,
     "metadata": {},
     "output_type": "execute_result"
    }
   ],
   "source": [
    "cvec.vocabulary_"
   ]
  },
  {
   "cell_type": "code",
   "execution_count": 24,
   "metadata": {},
   "outputs": [
    {
     "data": {
      "text/plain": [
       "array([[0, 0, 0, 0, 0, 1, 0, 0, 0]])"
      ]
     },
     "execution_count": 24,
     "metadata": {},
     "output_type": "execute_result"
    }
   ],
   "source": [
    "cvec.transform(test1).toarray()"
   ]
  },
  {
   "cell_type": "code",
   "execution_count": 25,
   "metadata": {},
   "outputs": [
    {
     "data": {
      "text/plain": [
       "array([[1, 1, 1, 2, 1, 1, 1, 2, 2]])"
      ]
     },
     "execution_count": 25,
     "metadata": {},
     "output_type": "execute_result"
    }
   ],
   "source": [
    "test2 = [\"You have won a lottery of $500000. You have not won at all.\"]\n",
    "cvec.fit(test2)\n",
    "# cvec.vocabulary_\n",
    "cvec.transform(test2).toarray()"
   ]
  },
  {
   "cell_type": "markdown",
   "metadata": {},
   "source": [
    "# Using the Logistic Regression Classifier"
   ]
  },
  {
   "cell_type": "code",
   "execution_count": 73,
   "metadata": {},
   "outputs": [],
   "source": [
    "import numpy as np\n",
    "\n",
    "from sklearn.model_selection import train_test_split\n",
    "from sklearn.linear_model import LogisticRegression\n",
    "from sklearn.model_selection import cross_val_score"
   ]
  },
  {
   "cell_type": "code",
   "execution_count": 74,
   "metadata": {},
   "outputs": [
    {
     "data": {
      "text/html": [
       "<div>\n",
       "<style scoped>\n",
       "    .dataframe tbody tr th:only-of-type {\n",
       "        vertical-align: middle;\n",
       "    }\n",
       "\n",
       "    .dataframe tbody tr th {\n",
       "        vertical-align: top;\n",
       "    }\n",
       "\n",
       "    .dataframe thead th {\n",
       "        text-align: right;\n",
       "    }\n",
       "</style>\n",
       "<table border=\"1\" class=\"dataframe\">\n",
       "  <thead>\n",
       "    <tr style=\"text-align: right;\">\n",
       "      <th></th>\n",
       "      <th>author</th>\n",
       "      <th>description</th>\n",
       "      <th>label</th>\n",
       "      <th>publishedAt</th>\n",
       "      <th>title</th>\n",
       "      <th>Whole</th>\n",
       "    </tr>\n",
       "  </thead>\n",
       "  <tbody>\n",
       "    <tr>\n",
       "      <th>0</th>\n",
       "      <td>Julia Reinstein</td>\n",
       "      <td>Trust no man, trust no brand. (This post will ...</td>\n",
       "      <td>1</td>\n",
       "      <td>NaN</td>\n",
       "      <td>The Definitive Guide To The Best April Fools’ ...</td>\n",
       "      <td>Trust no man, trust no brand. (This post will ...</td>\n",
       "    </tr>\n",
       "    <tr>\n",
       "      <th>1</th>\n",
       "      <td>Natalya Lobanova</td>\n",
       "      <td>Not that anyone should need convincing of thei...</td>\n",
       "      <td>1</td>\n",
       "      <td>NaN</td>\n",
       "      <td>Literally Just 19 Pictures That Prove Hedgehog...</td>\n",
       "      <td>Not that anyone should need convincing of thei...</td>\n",
       "    </tr>\n",
       "    <tr>\n",
       "      <th>2</th>\n",
       "      <td>Kat Angus, Jane Lytvynenko</td>\n",
       "      <td>You can only have one, eh?</td>\n",
       "      <td>1</td>\n",
       "      <td>NaN</td>\n",
       "      <td>\"Would You Rather\": Canadian Food Vs. Canadian...</td>\n",
       "      <td>You can only have one, eh? \"Would You Rather\":...</td>\n",
       "    </tr>\n",
       "    <tr>\n",
       "      <th>3</th>\n",
       "      <td>Ben Coleman</td>\n",
       "      <td>\"It's gonna rip my eyebrow off!\"</td>\n",
       "      <td>1</td>\n",
       "      <td>NaN</td>\n",
       "      <td>Guys Try The \"Most Painful\" Face Mask</td>\n",
       "      <td>\"It's gonna rip my eyebrow off!\" Guys Try The ...</td>\n",
       "    </tr>\n",
       "    <tr>\n",
       "      <th>4</th>\n",
       "      <td>Ellie Bate</td>\n",
       "      <td>No, your hair colour won't make a difference.</td>\n",
       "      <td>1</td>\n",
       "      <td>NaN</td>\n",
       "      <td>Which \"Riverdale\" Family Do You Belong In?</td>\n",
       "      <td>No, your hair colour won't make a difference. ...</td>\n",
       "    </tr>\n",
       "    <tr>\n",
       "      <th>5</th>\n",
       "      <td>Beatriz Serrano</td>\n",
       "      <td>These painters get it.</td>\n",
       "      <td>1</td>\n",
       "      <td>NaN</td>\n",
       "      <td>27 Times Art History Totally Captured What It'...</td>\n",
       "      <td>These painters get it. 27 Times Art History To...</td>\n",
       "    </tr>\n",
       "    <tr>\n",
       "      <th>6</th>\n",
       "      <td>Sarah Aspler</td>\n",
       "      <td>This week: Herb infusers, hands-free umbrellas...</td>\n",
       "      <td>1</td>\n",
       "      <td>NaN</td>\n",
       "      <td>15 Cool Products Canadians Are Buying On Amazo...</td>\n",
       "      <td>This week: Herb infusers, hands-free umbrellas...</td>\n",
       "    </tr>\n",
       "    <tr>\n",
       "      <th>7</th>\n",
       "      <td>Jamie Jones</td>\n",
       "      <td>Step back in time.</td>\n",
       "      <td>1</td>\n",
       "      <td>NaN</td>\n",
       "      <td>Relive The '00s And We'll Guess Your Exact Age...</td>\n",
       "      <td>Step back in time. Relive The '00s And We'll G...</td>\n",
       "    </tr>\n",
       "    <tr>\n",
       "      <th>8</th>\n",
       "      <td>Brian Galindo</td>\n",
       "      <td>\"I have a return, but I don't have the tags or...</td>\n",
       "      <td>1</td>\n",
       "      <td>NaN</td>\n",
       "      <td>24 Tweets That'll Really Speak To Every Retail...</td>\n",
       "      <td>\"I have a return, but I don't have the tags or...</td>\n",
       "    </tr>\n",
       "    <tr>\n",
       "      <th>9</th>\n",
       "      <td>Joshua M. Ferguson</td>\n",
       "      <td>On the Trans Day of Visibility, we need to tal...</td>\n",
       "      <td>1</td>\n",
       "      <td>2017-03-31T17:43:55Z</td>\n",
       "      <td>I Imagine A Time When You See Me</td>\n",
       "      <td>On the Trans Day of Visibility, we need to tal...</td>\n",
       "    </tr>\n",
       "    <tr>\n",
       "      <th>10</th>\n",
       "      <td>Tolani Shoneye</td>\n",
       "      <td>See new places.</td>\n",
       "      <td>1</td>\n",
       "      <td>NaN</td>\n",
       "      <td>7 Instagram Accounts That Will Inspire You To ...</td>\n",
       "      <td>See new places. 7 Instagram Accounts That Will...</td>\n",
       "    </tr>\n",
       "    <tr>\n",
       "      <th>11</th>\n",
       "      <td>Nathan W. Pyle</td>\n",
       "      <td>Can you score a perfect 10?</td>\n",
       "      <td>1</td>\n",
       "      <td>NaN</td>\n",
       "      <td>Can You Guess Which Color Comes Next In This S...</td>\n",
       "      <td>Can you score a perfect 10? Can You Guess Whic...</td>\n",
       "    </tr>\n",
       "    <tr>\n",
       "      <th>12</th>\n",
       "      <td>Remy Smidt</td>\n",
       "      <td>\"Holy cow!\"</td>\n",
       "      <td>1</td>\n",
       "      <td>NaN</td>\n",
       "      <td>This Little Cow Is Best Friends With A Bunch O...</td>\n",
       "      <td>\"Holy cow!\" This Little Cow Is Best Friends Wi...</td>\n",
       "    </tr>\n",
       "    <tr>\n",
       "      <th>13</th>\n",
       "      <td>Lindsay Farber</td>\n",
       "      <td>\"I look like a tiger.\"</td>\n",
       "      <td>1</td>\n",
       "      <td>NaN</td>\n",
       "      <td>19 Terrible, Horrible Things Anyone Who's Trie...</td>\n",
       "      <td>\"I look like a tiger.\" 19 Terrible, Horrible T...</td>\n",
       "    </tr>\n",
       "    <tr>\n",
       "      <th>14</th>\n",
       "      <td>Kevin Smith</td>\n",
       "      <td>\"Hi, nice to meet you, I'm...\"</td>\n",
       "      <td>1</td>\n",
       "      <td>NaN</td>\n",
       "      <td>Only People Good At Remembering Names Will Get...</td>\n",
       "      <td>\"Hi, nice to meet you, I'm...\" Only People Goo...</td>\n",
       "    </tr>\n",
       "    <tr>\n",
       "      <th>15</th>\n",
       "      <td>Nathan W. Pyle</td>\n",
       "      <td>Do you see the animal ghost hovering over this...</td>\n",
       "      <td>1</td>\n",
       "      <td>NaN</td>\n",
       "      <td>Can You Spot All 8 Animal Ghosts In These Scenes?</td>\n",
       "      <td>Do you see the animal ghost hovering over this...</td>\n",
       "    </tr>\n",
       "    <tr>\n",
       "      <th>16</th>\n",
       "      <td>Marie Telling</td>\n",
       "      <td>Here’s what our editors and writers are making...</td>\n",
       "      <td>1</td>\n",
       "      <td>NaN</td>\n",
       "      <td>11 Recipes We Actually Tried And Loved This Month</td>\n",
       "      <td>Here’s what our editors and writers are making...</td>\n",
       "    </tr>\n",
       "    <tr>\n",
       "      <th>17</th>\n",
       "      <td>Brett S. Vergara</td>\n",
       "      <td>~Dress to impress~</td>\n",
       "      <td>1</td>\n",
       "      <td>NaN</td>\n",
       "      <td>Pick An Outfit To Reveal Your Best Quality</td>\n",
       "      <td>~Dress to impress~ Pick An Outfit To Reveal Yo...</td>\n",
       "    </tr>\n",
       "    <tr>\n",
       "      <th>18</th>\n",
       "      <td>Lincoln Thompson</td>\n",
       "      <td>Some of our recent favorites we’ve reviewed in...</td>\n",
       "      <td>1</td>\n",
       "      <td>NaN</td>\n",
       "      <td>5 Great Books To Read In April</td>\n",
       "      <td>Some of our recent favorites we’ve reviewed in...</td>\n",
       "    </tr>\n",
       "    <tr>\n",
       "      <th>19</th>\n",
       "      <td>Gustavo Serrano</td>\n",
       "      <td>All those many hours spent on YouTube will fin...</td>\n",
       "      <td>1</td>\n",
       "      <td>NaN</td>\n",
       "      <td>If You Consider Yourself A Pop Music Connoisse...</td>\n",
       "      <td>All those many hours spent on YouTube will fin...</td>\n",
       "    </tr>\n",
       "    <tr>\n",
       "      <th>20</th>\n",
       "      <td>Whitney Jefferson</td>\n",
       "      <td>Which of Mother Nature's gifts means the most ...</td>\n",
       "      <td>1</td>\n",
       "      <td>2017-03-29T18:01:04Z</td>\n",
       "      <td>Tell Us About Your Favorite Place On Earth</td>\n",
       "      <td>Which of Mother Nature's gifts means the most ...</td>\n",
       "    </tr>\n",
       "    <tr>\n",
       "      <th>21</th>\n",
       "      <td>Brad Esposito</td>\n",
       "      <td>Mental note: There's more than one Sydney in t...</td>\n",
       "      <td>1</td>\n",
       "      <td>NaN</td>\n",
       "      <td>This 18-Year-Old Thought He Had Booked A Holid...</td>\n",
       "      <td>Mental note: There's more than one Sydney in t...</td>\n",
       "    </tr>\n",
       "    <tr>\n",
       "      <th>22</th>\n",
       "      <td>Flora Paul</td>\n",
       "      <td>That one you see on the bus every so often and...</td>\n",
       "      <td>1</td>\n",
       "      <td>NaN</td>\n",
       "      <td>15 Kinds Of Crushes Everyone Has Had In Their ...</td>\n",
       "      <td>That one you see on the bus every so often and...</td>\n",
       "    </tr>\n",
       "    <tr>\n",
       "      <th>23</th>\n",
       "      <td>Elena Garcia</td>\n",
       "      <td>Add head to test... XX Ways To Dress Up Your C...</td>\n",
       "      <td>1</td>\n",
       "      <td>NaN</td>\n",
       "      <td>22 Easy Ways To Make Your Outfit So Much Fancier</td>\n",
       "      <td>Add head to test... XX Ways To Dress Up Your C...</td>\n",
       "    </tr>\n",
       "    <tr>\n",
       "      <th>24</th>\n",
       "      <td>Erin Chack</td>\n",
       "      <td>Chosen by BuzzFeed readers like YOU.</td>\n",
       "      <td>1</td>\n",
       "      <td>NaN</td>\n",
       "      <td>The 17 Best Teen Movies Of The '90s According ...</td>\n",
       "      <td>Chosen by BuzzFeed readers like YOU. The 17 Be...</td>\n",
       "    </tr>\n",
       "    <tr>\n",
       "      <th>25</th>\n",
       "      <td>Essence Gant</td>\n",
       "      <td>In living color.</td>\n",
       "      <td>1</td>\n",
       "      <td>NaN</td>\n",
       "      <td>18 Drastic Hair Color Transformations That'll ...</td>\n",
       "      <td>In living color. 18 Drastic Hair Color Transfo...</td>\n",
       "    </tr>\n",
       "    <tr>\n",
       "      <th>26</th>\n",
       "      <td>Sheridan Watson</td>\n",
       "      <td>Dem babies.</td>\n",
       "      <td>1</td>\n",
       "      <td>NaN</td>\n",
       "      <td>Beyoncé Posted A New Photo Shoot Saturday Nigh...</td>\n",
       "      <td>Dem babies. Beyoncé Posted A New Photo Shoot S...</td>\n",
       "    </tr>\n",
       "    <tr>\n",
       "      <th>27</th>\n",
       "      <td>Angelo Spagnolo</td>\n",
       "      <td>H/T &lt;a href=\"https://go.redirectingat.com?id=7...</td>\n",
       "      <td>1</td>\n",
       "      <td>NaN</td>\n",
       "      <td>24 Pun Jokes So Bad They're Actually Almost Good</td>\n",
       "      <td>H/T &lt;a href=\"https://go.redirectingat.com?id=7...</td>\n",
       "    </tr>\n",
       "    <tr>\n",
       "      <th>28</th>\n",
       "      <td>Gena-mour Barrett</td>\n",
       "      <td>Are you the type of person you think you are?</td>\n",
       "      <td>1</td>\n",
       "      <td>NaN</td>\n",
       "      <td>This Picture Test Will Determine If You're Mor...</td>\n",
       "      <td>Are you the type of person you think you are? ...</td>\n",
       "    </tr>\n",
       "    <tr>\n",
       "      <th>29</th>\n",
       "      <td>Ailbhe Malone</td>\n",
       "      <td>Relationship milestones: They friended your mu...</td>\n",
       "      <td>1</td>\n",
       "      <td>NaN</td>\n",
       "      <td>52 Memes You Should Send To Your SO Right Now</td>\n",
       "      <td>Relationship milestones: They friended your mu...</td>\n",
       "    </tr>\n",
       "    <tr>\n",
       "      <th>...</th>\n",
       "      <td>...</td>\n",
       "      <td>...</td>\n",
       "      <td>...</td>\n",
       "      <td>...</td>\n",
       "      <td>...</td>\n",
       "      <td>...</td>\n",
       "    </tr>\n",
       "    <tr>\n",
       "      <th>1335</th>\n",
       "      <td>NaN</td>\n",
       "      <td>Bloodbath in the Dales?</td>\n",
       "      <td>1</td>\n",
       "      <td>2017-04-02T10:27:27Z</td>\n",
       "      <td>Shock double murder storyline ahead as two Emm...</td>\n",
       "      <td>Bloodbath in the Dales? Shock double murder st...</td>\n",
       "    </tr>\n",
       "    <tr>\n",
       "      <th>1336</th>\n",
       "      <td>NaN</td>\n",
       "      <td>It’s not the World Cup, but it’s a start.</td>\n",
       "      <td>0</td>\n",
       "      <td>2017-04-02T10:16:58Z</td>\n",
       "      <td>Bastian Schweinsteiger took just 17 minutes to...</td>\n",
       "      <td>It’s not the World Cup, but it’s a start. Bast...</td>\n",
       "    </tr>\n",
       "    <tr>\n",
       "      <th>1337</th>\n",
       "      <td>NaN</td>\n",
       "      <td>'This may be the first time they have ever see...</td>\n",
       "      <td>0</td>\n",
       "      <td>2017-04-02T10:15:07Z</td>\n",
       "      <td>Gay father's advice on how to deal with stares...</td>\n",
       "      <td>'This may be the first time they have ever see...</td>\n",
       "    </tr>\n",
       "    <tr>\n",
       "      <th>1338</th>\n",
       "      <td>NaN</td>\n",
       "      <td>Learn from the GOATs.</td>\n",
       "      <td>1</td>\n",
       "      <td>2017-04-02T04:49:39Z</td>\n",
       "      <td>Get schooled online by celebrities like Steve ...</td>\n",
       "      <td>Learn from the GOATs. Get schooled online by c...</td>\n",
       "    </tr>\n",
       "    <tr>\n",
       "      <th>1339</th>\n",
       "      <td>NaN</td>\n",
       "      <td>Are guys ok?</td>\n",
       "      <td>1</td>\n",
       "      <td>2017-04-02T03:34:35Z</td>\n",
       "      <td>The New York Post's push alerts just got real ...</td>\n",
       "      <td>Are guys ok? The New York Post's push alerts j...</td>\n",
       "    </tr>\n",
       "    <tr>\n",
       "      <th>1340</th>\n",
       "      <td>NaN</td>\n",
       "      <td>Please...talk to us.</td>\n",
       "      <td>1</td>\n",
       "      <td>2017-04-01T20:00:00Z</td>\n",
       "      <td>Things we wish our pets could say</td>\n",
       "      <td>Please...talk to us. Things we wish our pets c...</td>\n",
       "    </tr>\n",
       "    <tr>\n",
       "      <th>1341</th>\n",
       "      <td>NaN</td>\n",
       "      <td>Hilarious!</td>\n",
       "      <td>1</td>\n",
       "      <td>2017-04-01T19:15:38Z</td>\n",
       "      <td>Even Russia's got jokes on April Fools' Day. O...</td>\n",
       "      <td>Hilarious! Even Russia's got jokes on April Fo...</td>\n",
       "    </tr>\n",
       "    <tr>\n",
       "      <th>1342</th>\n",
       "      <td>NaN</td>\n",
       "      <td>The ultimate prank is our reality!!!</td>\n",
       "      <td>1</td>\n",
       "      <td>2017-04-01T17:59:25Z</td>\n",
       "      <td>12 tweets that simultaneously drag April Fools...</td>\n",
       "      <td>The ultimate prank is our reality!!! 12 tweets...</td>\n",
       "    </tr>\n",
       "    <tr>\n",
       "      <th>1343</th>\n",
       "      <td>NaN</td>\n",
       "      <td>Once-itinerant farmers build a sense of place ...</td>\n",
       "      <td>0</td>\n",
       "      <td>2017-04-01T17:00:00Z</td>\n",
       "      <td>1937: Alabama farmers find community in a good...</td>\n",
       "      <td>Once-itinerant farmers build a sense of place ...</td>\n",
       "    </tr>\n",
       "    <tr>\n",
       "      <th>1344</th>\n",
       "      <td>NaN</td>\n",
       "      <td>Because they have to learn sometime.</td>\n",
       "      <td>1</td>\n",
       "      <td>2017-04-01T14:48:26Z</td>\n",
       "      <td>April Fools' Day pranks to play on your gullib...</td>\n",
       "      <td>Because they have to learn sometime. April Foo...</td>\n",
       "    </tr>\n",
       "    <tr>\n",
       "      <th>1345</th>\n",
       "      <td>NaN</td>\n",
       "      <td>Coming to a port near you.</td>\n",
       "      <td>0</td>\n",
       "      <td>2017-04-01T14:00:00Z</td>\n",
       "      <td>The first zero emissions ship looks pretty badass</td>\n",
       "      <td>Coming to a port near you. The first zero emis...</td>\n",
       "    </tr>\n",
       "    <tr>\n",
       "      <th>1346</th>\n",
       "      <td>NaN</td>\n",
       "      <td>Sorry, giraffe.</td>\n",
       "      <td>1</td>\n",
       "      <td>2017-03-31T22:35:15Z</td>\n",
       "      <td>Livestream of a pregnant cat isn't a marketing...</td>\n",
       "      <td>Sorry, giraffe. Livestream of a pregnant cat i...</td>\n",
       "    </tr>\n",
       "    <tr>\n",
       "      <th>1347</th>\n",
       "      <td>NaN</td>\n",
       "      <td>Leave our childhoods ALONE.</td>\n",
       "      <td>1</td>\n",
       "      <td>2017-03-31T22:26:06Z</td>\n",
       "      <td>Hey Crayola, quit dragging on this elaborate c...</td>\n",
       "      <td>Leave our childhoods ALONE. Hey Crayola, quit ...</td>\n",
       "    </tr>\n",
       "    <tr>\n",
       "      <th>1348</th>\n",
       "      <td>NaN</td>\n",
       "      <td>Very accurate and kind of scary.</td>\n",
       "      <td>1</td>\n",
       "      <td>2017-04-02T12:36:43Z</td>\n",
       "      <td>I made an exact replica of Donald Trump in 'Th...</td>\n",
       "      <td>Very accurate and kind of scary. I made an exa...</td>\n",
       "    </tr>\n",
       "    <tr>\n",
       "      <th>1349</th>\n",
       "      <td>NaN</td>\n",
       "      <td>Our hearts go out to the city of Mocoa.</td>\n",
       "      <td>0</td>\n",
       "      <td>2017-04-02T13:14:48Z</td>\n",
       "      <td>Aerial footage shows avalanche of mud in deadl...</td>\n",
       "      <td>Our hearts go out to the city of Mocoa. Aerial...</td>\n",
       "    </tr>\n",
       "    <tr>\n",
       "      <th>1350</th>\n",
       "      <td>NaN</td>\n",
       "      <td>Henryk Ross risked his life to document Nazi a...</td>\n",
       "      <td>0</td>\n",
       "      <td>2017-04-02T14:00:00Z</td>\n",
       "      <td>A buried box of photos reveals a Jewish photog...</td>\n",
       "      <td>Henryk Ross risked his life to document Nazi a...</td>\n",
       "    </tr>\n",
       "    <tr>\n",
       "      <th>1351</th>\n",
       "      <td>NaN</td>\n",
       "      <td>An upcoming film exposes the gender gap in yet...</td>\n",
       "      <td>0</td>\n",
       "      <td>2017-04-02T14:14:19Z</td>\n",
       "      <td>This documentary inspires pilots to 'fly like ...</td>\n",
       "      <td>An upcoming film exposes the gender gap in yet...</td>\n",
       "    </tr>\n",
       "    <tr>\n",
       "      <th>1352</th>\n",
       "      <td>NaN</td>\n",
       "      <td>\"The Joy of Painting...and Parenthood\"</td>\n",
       "      <td>1</td>\n",
       "      <td>2017-04-02T14:34:18Z</td>\n",
       "      <td>Couple announces pregnancy in a perfect Bob Ro...</td>\n",
       "      <td>\"The Joy of Painting...and Parenthood\" Couple ...</td>\n",
       "    </tr>\n",
       "    <tr>\n",
       "      <th>1353</th>\n",
       "      <td>NaN</td>\n",
       "      <td>Treat yoself to these weird predictions.</td>\n",
       "      <td>1</td>\n",
       "      <td>2017-04-02T15:00:00Z</td>\n",
       "      <td>All the things 'Parks and Recreation' got righ...</td>\n",
       "      <td>Treat yoself to these weird predictions. All t...</td>\n",
       "    </tr>\n",
       "    <tr>\n",
       "      <th>1354</th>\n",
       "      <td>NaN</td>\n",
       "      <td>It's too soon for this, teens.</td>\n",
       "      <td>1</td>\n",
       "      <td>2017-04-02T16:00:00Z</td>\n",
       "      <td>11 times teens already tried to ruin 2017</td>\n",
       "      <td>It's too soon for this, teens. 11 times teens ...</td>\n",
       "    </tr>\n",
       "    <tr>\n",
       "      <th>1355</th>\n",
       "      <td>NaN</td>\n",
       "      <td>A new Mummy for a more frightening world.</td>\n",
       "      <td>0</td>\n",
       "      <td>2017-04-02T15:55:56Z</td>\n",
       "      <td>'The Mummy' trailer is equal parts action and ...</td>\n",
       "      <td>A new Mummy for a more frightening world. 'The...</td>\n",
       "    </tr>\n",
       "    <tr>\n",
       "      <th>1356</th>\n",
       "      <td>NaN</td>\n",
       "      <td>Watch for the skyscraper-sized war elephant.</td>\n",
       "      <td>1</td>\n",
       "      <td>2017-04-02T16:23:30Z</td>\n",
       "      <td>Guy Ritchie's sense of style is all over this ...</td>\n",
       "      <td>Watch for the skyscraper-sized war elephant. G...</td>\n",
       "    </tr>\n",
       "    <tr>\n",
       "      <th>1357</th>\n",
       "      <td>NaN</td>\n",
       "      <td>Rematch! Rematch! Rematch!</td>\n",
       "      <td>1</td>\n",
       "      <td>2017-04-02T16:10:53Z</td>\n",
       "      <td>Justin Trudeau challenges Matthew Perry to a r...</td>\n",
       "      <td>Rematch! Rematch! Rematch! Justin Trudeau chal...</td>\n",
       "    </tr>\n",
       "    <tr>\n",
       "      <th>1358</th>\n",
       "      <td>NaN</td>\n",
       "      <td>Wandering the streets of the 'Black Belt.'</td>\n",
       "      <td>0</td>\n",
       "      <td>2017-04-02T17:00:00Z</td>\n",
       "      <td>Striking images capture black life on Chicago'...</td>\n",
       "      <td>Wandering the streets of the 'Black Belt.' Str...</td>\n",
       "    </tr>\n",
       "    <tr>\n",
       "      <th>1359</th>\n",
       "      <td>NaN</td>\n",
       "      <td>It is like I am there at the show with you, ye...</td>\n",
       "      <td>1</td>\n",
       "      <td>2017-04-02T18:00:00Z</td>\n",
       "      <td>A personal thank you to the people who Snapcha...</td>\n",
       "      <td>It is like I am there at the show with you, ye...</td>\n",
       "    </tr>\n",
       "    <tr>\n",
       "      <th>1360</th>\n",
       "      <td>NaN</td>\n",
       "      <td>In other news: 'Ghost in the Shell' bombed.</td>\n",
       "      <td>0</td>\n",
       "      <td>2017-04-02T17:49:00Z</td>\n",
       "      <td>'Beauty and the Beast' in a tight box office r...</td>\n",
       "      <td>In other news: 'Ghost in the Shell' bombed. 'B...</td>\n",
       "    </tr>\n",
       "    <tr>\n",
       "      <th>1361</th>\n",
       "      <td>NaN</td>\n",
       "      <td>\"It’s going to affect you eventually.\"</td>\n",
       "      <td>1</td>\n",
       "      <td>2017-04-02T18:20:23Z</td>\n",
       "      <td>Tina Fey has a message for all the college-edu...</td>\n",
       "      <td>\"It’s going to affect you eventually.\" Tina Fe...</td>\n",
       "    </tr>\n",
       "    <tr>\n",
       "      <th>1362</th>\n",
       "      <td>NaN</td>\n",
       "      <td>Vin Diesel never looked so good.</td>\n",
       "      <td>1</td>\n",
       "      <td>2017-04-02T19:05:02Z</td>\n",
       "      <td>Vin Diesel laser cut out of ham and cheese is ...</td>\n",
       "      <td>Vin Diesel never looked so good. Vin Diesel la...</td>\n",
       "    </tr>\n",
       "    <tr>\n",
       "      <th>1363</th>\n",
       "      <td>NaN</td>\n",
       "      <td>The desert metropolis is a hotbed of skyscrape...</td>\n",
       "      <td>0</td>\n",
       "      <td>2017-04-02T19:34:33Z</td>\n",
       "      <td>Dubai's sky turns black after another skyscrap...</td>\n",
       "      <td>The desert metropolis is a hotbed of skyscrape...</td>\n",
       "    </tr>\n",
       "    <tr>\n",
       "      <th>1364</th>\n",
       "      <td>NaN</td>\n",
       "      <td>\"You just need to know how to smize...\"</td>\n",
       "      <td>1</td>\n",
       "      <td>2017-04-02T19:56:15Z</td>\n",
       "      <td>Thank goodness—there is now no age limit to ap...</td>\n",
       "      <td>\"You just need to know how to smize...\" Thank ...</td>\n",
       "    </tr>\n",
       "  </tbody>\n",
       "</table>\n",
       "<p>1365 rows × 6 columns</p>\n",
       "</div>"
      ],
      "text/plain": [
       "                          author  \\\n",
       "0                Julia Reinstein   \n",
       "1               Natalya Lobanova   \n",
       "2     Kat Angus, Jane Lytvynenko   \n",
       "3                    Ben Coleman   \n",
       "4                     Ellie Bate   \n",
       "5                Beatriz Serrano   \n",
       "6                   Sarah Aspler   \n",
       "7                    Jamie Jones   \n",
       "8                  Brian Galindo   \n",
       "9             Joshua M. Ferguson   \n",
       "10                Tolani Shoneye   \n",
       "11                Nathan W. Pyle   \n",
       "12                    Remy Smidt   \n",
       "13                Lindsay Farber   \n",
       "14                   Kevin Smith   \n",
       "15                Nathan W. Pyle   \n",
       "16                 Marie Telling   \n",
       "17              Brett S. Vergara   \n",
       "18              Lincoln Thompson   \n",
       "19               Gustavo Serrano   \n",
       "20             Whitney Jefferson   \n",
       "21                 Brad Esposito   \n",
       "22                    Flora Paul   \n",
       "23                  Elena Garcia   \n",
       "24                    Erin Chack   \n",
       "25                  Essence Gant   \n",
       "26               Sheridan Watson   \n",
       "27               Angelo Spagnolo   \n",
       "28             Gena-mour Barrett   \n",
       "29                 Ailbhe Malone   \n",
       "...                          ...   \n",
       "1335                         NaN   \n",
       "1336                         NaN   \n",
       "1337                         NaN   \n",
       "1338                         NaN   \n",
       "1339                         NaN   \n",
       "1340                         NaN   \n",
       "1341                         NaN   \n",
       "1342                         NaN   \n",
       "1343                         NaN   \n",
       "1344                         NaN   \n",
       "1345                         NaN   \n",
       "1346                         NaN   \n",
       "1347                         NaN   \n",
       "1348                         NaN   \n",
       "1349                         NaN   \n",
       "1350                         NaN   \n",
       "1351                         NaN   \n",
       "1352                         NaN   \n",
       "1353                         NaN   \n",
       "1354                         NaN   \n",
       "1355                         NaN   \n",
       "1356                         NaN   \n",
       "1357                         NaN   \n",
       "1358                         NaN   \n",
       "1359                         NaN   \n",
       "1360                         NaN   \n",
       "1361                         NaN   \n",
       "1362                         NaN   \n",
       "1363                         NaN   \n",
       "1364                         NaN   \n",
       "\n",
       "                                            description  label  \\\n",
       "0     Trust no man, trust no brand. (This post will ...      1   \n",
       "1     Not that anyone should need convincing of thei...      1   \n",
       "2                            You can only have one, eh?      1   \n",
       "3                      \"It's gonna rip my eyebrow off!\"      1   \n",
       "4         No, your hair colour won't make a difference.      1   \n",
       "5                                These painters get it.      1   \n",
       "6     This week: Herb infusers, hands-free umbrellas...      1   \n",
       "7                                    Step back in time.      1   \n",
       "8     \"I have a return, but I don't have the tags or...      1   \n",
       "9     On the Trans Day of Visibility, we need to tal...      1   \n",
       "10                                      See new places.      1   \n",
       "11                          Can you score a perfect 10?      1   \n",
       "12                                          \"Holy cow!\"      1   \n",
       "13                               \"I look like a tiger.\"      1   \n",
       "14                       \"Hi, nice to meet you, I'm...\"      1   \n",
       "15    Do you see the animal ghost hovering over this...      1   \n",
       "16    Here’s what our editors and writers are making...      1   \n",
       "17                                   ~Dress to impress~      1   \n",
       "18    Some of our recent favorites we’ve reviewed in...      1   \n",
       "19    All those many hours spent on YouTube will fin...      1   \n",
       "20    Which of Mother Nature's gifts means the most ...      1   \n",
       "21    Mental note: There's more than one Sydney in t...      1   \n",
       "22    That one you see on the bus every so often and...      1   \n",
       "23    Add head to test... XX Ways To Dress Up Your C...      1   \n",
       "24                 Chosen by BuzzFeed readers like YOU.      1   \n",
       "25                                     In living color.      1   \n",
       "26                                          Dem babies.      1   \n",
       "27    H/T <a href=\"https://go.redirectingat.com?id=7...      1   \n",
       "28        Are you the type of person you think you are?      1   \n",
       "29    Relationship milestones: They friended your mu...      1   \n",
       "...                                                 ...    ...   \n",
       "1335                            Bloodbath in the Dales?      1   \n",
       "1336          It’s not the World Cup, but it’s a start.      0   \n",
       "1337  'This may be the first time they have ever see...      0   \n",
       "1338                              Learn from the GOATs.      1   \n",
       "1339                                       Are guys ok?      1   \n",
       "1340                               Please...talk to us.      1   \n",
       "1341                                         Hilarious!      1   \n",
       "1342               The ultimate prank is our reality!!!      1   \n",
       "1343  Once-itinerant farmers build a sense of place ...      0   \n",
       "1344               Because they have to learn sometime.      1   \n",
       "1345                         Coming to a port near you.      0   \n",
       "1346                                    Sorry, giraffe.      1   \n",
       "1347                        Leave our childhoods ALONE.      1   \n",
       "1348                   Very accurate and kind of scary.      1   \n",
       "1349            Our hearts go out to the city of Mocoa.      0   \n",
       "1350  Henryk Ross risked his life to document Nazi a...      0   \n",
       "1351  An upcoming film exposes the gender gap in yet...      0   \n",
       "1352             \"The Joy of Painting...and Parenthood\"      1   \n",
       "1353           Treat yoself to these weird predictions.      1   \n",
       "1354                     It's too soon for this, teens.      1   \n",
       "1355          A new Mummy for a more frightening world.      0   \n",
       "1356       Watch for the skyscraper-sized war elephant.      1   \n",
       "1357                         Rematch! Rematch! Rematch!      1   \n",
       "1358         Wandering the streets of the 'Black Belt.'      0   \n",
       "1359  It is like I am there at the show with you, ye...      1   \n",
       "1360        In other news: 'Ghost in the Shell' bombed.      0   \n",
       "1361             \"It’s going to affect you eventually.\"      1   \n",
       "1362                   Vin Diesel never looked so good.      1   \n",
       "1363  The desert metropolis is a hotbed of skyscrape...      0   \n",
       "1364            \"You just need to know how to smize...\"      1   \n",
       "\n",
       "               publishedAt                                              title  \\\n",
       "0                      NaN  The Definitive Guide To The Best April Fools’ ...   \n",
       "1                      NaN  Literally Just 19 Pictures That Prove Hedgehog...   \n",
       "2                      NaN  \"Would You Rather\": Canadian Food Vs. Canadian...   \n",
       "3                      NaN              Guys Try The \"Most Painful\" Face Mask   \n",
       "4                      NaN         Which \"Riverdale\" Family Do You Belong In?   \n",
       "5                      NaN  27 Times Art History Totally Captured What It'...   \n",
       "6                      NaN  15 Cool Products Canadians Are Buying On Amazo...   \n",
       "7                      NaN  Relive The '00s And We'll Guess Your Exact Age...   \n",
       "8                      NaN  24 Tweets That'll Really Speak To Every Retail...   \n",
       "9     2017-03-31T17:43:55Z                   I Imagine A Time When You See Me   \n",
       "10                     NaN  7 Instagram Accounts That Will Inspire You To ...   \n",
       "11                     NaN  Can You Guess Which Color Comes Next In This S...   \n",
       "12                     NaN  This Little Cow Is Best Friends With A Bunch O...   \n",
       "13                     NaN  19 Terrible, Horrible Things Anyone Who's Trie...   \n",
       "14                     NaN  Only People Good At Remembering Names Will Get...   \n",
       "15                     NaN  Can You Spot All 8 Animal Ghosts In These Scenes?   \n",
       "16                     NaN  11 Recipes We Actually Tried And Loved This Month   \n",
       "17                     NaN         Pick An Outfit To Reveal Your Best Quality   \n",
       "18                     NaN                     5 Great Books To Read In April   \n",
       "19                     NaN  If You Consider Yourself A Pop Music Connoisse...   \n",
       "20    2017-03-29T18:01:04Z         Tell Us About Your Favorite Place On Earth   \n",
       "21                     NaN  This 18-Year-Old Thought He Had Booked A Holid...   \n",
       "22                     NaN  15 Kinds Of Crushes Everyone Has Had In Their ...   \n",
       "23                     NaN   22 Easy Ways To Make Your Outfit So Much Fancier   \n",
       "24                     NaN  The 17 Best Teen Movies Of The '90s According ...   \n",
       "25                     NaN  18 Drastic Hair Color Transformations That'll ...   \n",
       "26                     NaN  Beyoncé Posted A New Photo Shoot Saturday Nigh...   \n",
       "27                     NaN   24 Pun Jokes So Bad They're Actually Almost Good   \n",
       "28                     NaN  This Picture Test Will Determine If You're Mor...   \n",
       "29                     NaN      52 Memes You Should Send To Your SO Right Now   \n",
       "...                    ...                                                ...   \n",
       "1335  2017-04-02T10:27:27Z  Shock double murder storyline ahead as two Emm...   \n",
       "1336  2017-04-02T10:16:58Z  Bastian Schweinsteiger took just 17 minutes to...   \n",
       "1337  2017-04-02T10:15:07Z  Gay father's advice on how to deal with stares...   \n",
       "1338  2017-04-02T04:49:39Z  Get schooled online by celebrities like Steve ...   \n",
       "1339  2017-04-02T03:34:35Z  The New York Post's push alerts just got real ...   \n",
       "1340  2017-04-01T20:00:00Z                  Things we wish our pets could say   \n",
       "1341  2017-04-01T19:15:38Z  Even Russia's got jokes on April Fools' Day. O...   \n",
       "1342  2017-04-01T17:59:25Z  12 tweets that simultaneously drag April Fools...   \n",
       "1343  2017-04-01T17:00:00Z  1937: Alabama farmers find community in a good...   \n",
       "1344  2017-04-01T14:48:26Z  April Fools' Day pranks to play on your gullib...   \n",
       "1345  2017-04-01T14:00:00Z  The first zero emissions ship looks pretty badass   \n",
       "1346  2017-03-31T22:35:15Z  Livestream of a pregnant cat isn't a marketing...   \n",
       "1347  2017-03-31T22:26:06Z  Hey Crayola, quit dragging on this elaborate c...   \n",
       "1348  2017-04-02T12:36:43Z  I made an exact replica of Donald Trump in 'Th...   \n",
       "1349  2017-04-02T13:14:48Z  Aerial footage shows avalanche of mud in deadl...   \n",
       "1350  2017-04-02T14:00:00Z  A buried box of photos reveals a Jewish photog...   \n",
       "1351  2017-04-02T14:14:19Z  This documentary inspires pilots to 'fly like ...   \n",
       "1352  2017-04-02T14:34:18Z  Couple announces pregnancy in a perfect Bob Ro...   \n",
       "1353  2017-04-02T15:00:00Z  All the things 'Parks and Recreation' got righ...   \n",
       "1354  2017-04-02T16:00:00Z          11 times teens already tried to ruin 2017   \n",
       "1355  2017-04-02T15:55:56Z  'The Mummy' trailer is equal parts action and ...   \n",
       "1356  2017-04-02T16:23:30Z  Guy Ritchie's sense of style is all over this ...   \n",
       "1357  2017-04-02T16:10:53Z  Justin Trudeau challenges Matthew Perry to a r...   \n",
       "1358  2017-04-02T17:00:00Z  Striking images capture black life on Chicago'...   \n",
       "1359  2017-04-02T18:00:00Z  A personal thank you to the people who Snapcha...   \n",
       "1360  2017-04-02T17:49:00Z  'Beauty and the Beast' in a tight box office r...   \n",
       "1361  2017-04-02T18:20:23Z  Tina Fey has a message for all the college-edu...   \n",
       "1362  2017-04-02T19:05:02Z  Vin Diesel laser cut out of ham and cheese is ...   \n",
       "1363  2017-04-02T19:34:33Z  Dubai's sky turns black after another skyscrap...   \n",
       "1364  2017-04-02T19:56:15Z  Thank goodness—there is now no age limit to ap...   \n",
       "\n",
       "                                                  Whole  \n",
       "0     Trust no man, trust no brand. (This post will ...  \n",
       "1     Not that anyone should need convincing of thei...  \n",
       "2     You can only have one, eh? \"Would You Rather\":...  \n",
       "3     \"It's gonna rip my eyebrow off!\" Guys Try The ...  \n",
       "4     No, your hair colour won't make a difference. ...  \n",
       "5     These painters get it. 27 Times Art History To...  \n",
       "6     This week: Herb infusers, hands-free umbrellas...  \n",
       "7     Step back in time. Relive The '00s And We'll G...  \n",
       "8     \"I have a return, but I don't have the tags or...  \n",
       "9     On the Trans Day of Visibility, we need to tal...  \n",
       "10    See new places. 7 Instagram Accounts That Will...  \n",
       "11    Can you score a perfect 10? Can You Guess Whic...  \n",
       "12    \"Holy cow!\" This Little Cow Is Best Friends Wi...  \n",
       "13    \"I look like a tiger.\" 19 Terrible, Horrible T...  \n",
       "14    \"Hi, nice to meet you, I'm...\" Only People Goo...  \n",
       "15    Do you see the animal ghost hovering over this...  \n",
       "16    Here’s what our editors and writers are making...  \n",
       "17    ~Dress to impress~ Pick An Outfit To Reveal Yo...  \n",
       "18    Some of our recent favorites we’ve reviewed in...  \n",
       "19    All those many hours spent on YouTube will fin...  \n",
       "20    Which of Mother Nature's gifts means the most ...  \n",
       "21    Mental note: There's more than one Sydney in t...  \n",
       "22    That one you see on the bus every so often and...  \n",
       "23    Add head to test... XX Ways To Dress Up Your C...  \n",
       "24    Chosen by BuzzFeed readers like YOU. The 17 Be...  \n",
       "25    In living color. 18 Drastic Hair Color Transfo...  \n",
       "26    Dem babies. Beyoncé Posted A New Photo Shoot S...  \n",
       "27    H/T <a href=\"https://go.redirectingat.com?id=7...  \n",
       "28    Are you the type of person you think you are? ...  \n",
       "29    Relationship milestones: They friended your mu...  \n",
       "...                                                 ...  \n",
       "1335  Bloodbath in the Dales? Shock double murder st...  \n",
       "1336  It’s not the World Cup, but it’s a start. Bast...  \n",
       "1337  'This may be the first time they have ever see...  \n",
       "1338  Learn from the GOATs. Get schooled online by c...  \n",
       "1339  Are guys ok? The New York Post's push alerts j...  \n",
       "1340  Please...talk to us. Things we wish our pets c...  \n",
       "1341  Hilarious! Even Russia's got jokes on April Fo...  \n",
       "1342  The ultimate prank is our reality!!! 12 tweets...  \n",
       "1343  Once-itinerant farmers build a sense of place ...  \n",
       "1344  Because they have to learn sometime. April Foo...  \n",
       "1345  Coming to a port near you. The first zero emis...  \n",
       "1346  Sorry, giraffe. Livestream of a pregnant cat i...  \n",
       "1347  Leave our childhoods ALONE. Hey Crayola, quit ...  \n",
       "1348  Very accurate and kind of scary. I made an exa...  \n",
       "1349  Our hearts go out to the city of Mocoa. Aerial...  \n",
       "1350  Henryk Ross risked his life to document Nazi a...  \n",
       "1351  An upcoming film exposes the gender gap in yet...  \n",
       "1352  \"The Joy of Painting...and Parenthood\" Couple ...  \n",
       "1353  Treat yoself to these weird predictions. All t...  \n",
       "1354  It's too soon for this, teens. 11 times teens ...  \n",
       "1355  A new Mummy for a more frightening world. 'The...  \n",
       "1356  Watch for the skyscraper-sized war elephant. G...  \n",
       "1357  Rematch! Rematch! Rematch! Justin Trudeau chal...  \n",
       "1358  Wandering the streets of the 'Black Belt.' Str...  \n",
       "1359  It is like I am there at the show with you, ye...  \n",
       "1360  In other news: 'Ghost in the Shell' bombed. 'B...  \n",
       "1361  \"It’s going to affect you eventually.\" Tina Fe...  \n",
       "1362  Vin Diesel never looked so good. Vin Diesel la...  \n",
       "1363  The desert metropolis is a hotbed of skyscrape...  \n",
       "1364  \"You just need to know how to smize...\" Thank ...  \n",
       "\n",
       "[1365 rows x 6 columns]"
      ]
     },
     "execution_count": 74,
     "metadata": {},
     "output_type": "execute_result"
    }
   ],
   "source": [
    "df"
   ]
  },
  {
   "cell_type": "code",
   "execution_count": 75,
   "metadata": {},
   "outputs": [],
   "source": [
    "train_x, test_x, train_y, test_y = train_test_split(df.Whole, df.label)"
   ]
  },
  {
   "cell_type": "markdown",
   "metadata": {},
   "source": [
    "## Count Vectorizer"
   ]
  },
  {
   "cell_type": "code",
   "execution_count": 85,
   "metadata": {},
   "outputs": [],
   "source": [
    "cvec = CountVectorizer(stop_words=\"english\")\n",
    "cvec_trainX = cvec.fit_transform(train_x)\n",
    "cvec_testX = cvec.transform(test_x)"
   ]
  },
  {
   "cell_type": "markdown",
   "metadata": {},
   "source": [
    "## Now, Logistic Regression"
   ]
  },
  {
   "cell_type": "code",
   "execution_count": 86,
   "metadata": {},
   "outputs": [
    {
     "name": "stderr",
     "output_type": "stream",
     "text": [
      "/home/prajwol/anaconda3/lib/python3.7/site-packages/sklearn/linear_model/logistic.py:433: FutureWarning: Default solver will be changed to 'lbfgs' in 0.22. Specify a solver to silence this warning.\n",
      "  FutureWarning)\n"
     ]
    }
   ],
   "source": [
    "logreg = LogisticRegression()\n",
    "logreg = logreg.fit(cvec_trainX,train_y)"
   ]
  },
  {
   "cell_type": "code",
   "execution_count": 87,
   "metadata": {},
   "outputs": [
    {
     "data": {
      "text/plain": [
       "LogisticRegression(C=1.0, class_weight=None, dual=False, fit_intercept=True,\n",
       "          intercept_scaling=1, max_iter=100, multi_class='warn',\n",
       "          n_jobs=None, penalty='l2', random_state=None, solver='warn',\n",
       "          tol=0.0001, verbose=0, warm_start=False)"
      ]
     },
     "execution_count": 87,
     "metadata": {},
     "output_type": "execute_result"
    }
   ],
   "source": [
    "logreg"
   ]
  },
  {
   "cell_type": "code",
   "execution_count": 88,
   "metadata": {},
   "outputs": [
    {
     "name": "stderr",
     "output_type": "stream",
     "text": [
      "/home/prajwol/anaconda3/lib/python3.7/site-packages/sklearn/linear_model/logistic.py:433: FutureWarning: Default solver will be changed to 'lbfgs' in 0.22. Specify a solver to silence this warning.\n",
      "  FutureWarning)\n"
     ]
    },
    {
     "data": {
      "text/plain": [
       "0.9094117647058824"
      ]
     },
     "execution_count": 88,
     "metadata": {},
     "output_type": "execute_result"
    }
   ],
   "source": [
    "accuracy = cross_val_score(logreg,cvec_testX,test_y,cv=5)\n",
    "accuracy.mean()"
   ]
  },
  {
   "cell_type": "code",
   "execution_count": 110,
   "metadata": {},
   "outputs": [
    {
     "name": "stdout",
     "output_type": "stream",
     "text": [
      "i am good.\n"
     ]
    }
   ],
   "source": [
    "chk = [input()]\n",
    "# chk = cvec.transform(chk)\n",
    "output = logreg.predict(cvec.transform(chk))\n"
   ]
  },
  {
   "cell_type": "code",
   "execution_count": 111,
   "metadata": {},
   "outputs": [
    {
     "data": {
      "text/plain": [
       "1"
      ]
     },
     "execution_count": 111,
     "metadata": {},
     "output_type": "execute_result"
    }
   ],
   "source": [
    "output[0]"
   ]
  },
  {
   "cell_type": "code",
   "execution_count": null,
   "metadata": {},
   "outputs": [],
   "source": []
  },
  {
   "cell_type": "code",
   "execution_count": null,
   "metadata": {},
   "outputs": [],
   "source": []
  },
  {
   "cell_type": "code",
   "execution_count": null,
   "metadata": {},
   "outputs": [],
   "source": []
  }
 ],
 "metadata": {
  "kernelspec": {
   "display_name": "Python 3",
   "language": "python",
   "name": "python3"
  },
  "language_info": {
   "codemirror_mode": {
    "name": "ipython",
    "version": 3
   },
   "file_extension": ".py",
   "mimetype": "text/x-python",
   "name": "python",
   "nbconvert_exporter": "python",
   "pygments_lexer": "ipython3",
   "version": "3.7.3"
  }
 },
 "nbformat": 4,
 "nbformat_minor": 2
}
